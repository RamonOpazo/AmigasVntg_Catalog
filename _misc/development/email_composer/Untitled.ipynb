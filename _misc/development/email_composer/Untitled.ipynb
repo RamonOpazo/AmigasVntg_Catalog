{
 "cells": [
  {
   "cell_type": "code",
   "execution_count": 1,
   "id": "bf956a26-4f27-448a-8370-0d73262d216d",
   "metadata": {},
   "outputs": [
    {
     "data": {
      "text/plain": [
       "'\\n<!DOCTYPE html>\\n<html lang=\"es\" xmlns=\"http://www.w3.org/1999/xhtml\" xmlns:o=\"urn:schemas-microsoft-com:office:office\">\\n<head>\\n    <meta http-equiv=\"Content-Type\" content=\"text/html; charset=UTF-8\">\\n    <meta name=\"viewport\" content=\"width=device-width, initial-scale=1.0\">\\n    <meta name=\"x-apple-disable-message-reformatting\">\\n    <!--[if !mso]><!--><meta http-equiv=\"X-UA-Compatible\" content=\"IE=edge\"><!--<![endif]-->\\n    <title></title>\\n    <!--[if mso]>\\n    <noscript>\\n        <xml>\\n            <o:OfficeDocumentSettings>\\n                <o:PixelsPerInch>96</o:PixelsPerInch>\\n            </o:OfficeDocumentSettings>\\n        </xml>\\n    </noscript>\\n    <![endif]-->\\n</head>\\n'"
      ]
     },
     "execution_count": 1,
     "metadata": {},
     "output_type": "execute_result"
    }
   ],
   "source": [
    "\"\"\"\n",
    "<!DOCTYPE html>\n",
    "<html lang=\"es\" xmlns=\"http://www.w3.org/1999/xhtml\" xmlns:o=\"urn:schemas-microsoft-com:office:office\">\n",
    "<head>\n",
    "    <meta http-equiv=\"Content-Type\" content=\"text/html; charset=UTF-8\">\n",
    "    <meta name=\"viewport\" content=\"width=device-width, initial-scale=1.0\">\n",
    "    <meta name=\"x-apple-disable-message-reformatting\">\n",
    "    <!--[if !mso]><!--><meta http-equiv=\"X-UA-Compatible\" content=\"IE=edge\"><!--<![endif]-->\n",
    "    <title></title>\n",
    "    <!--[if mso]>\n",
    "    <noscript>\n",
    "        <xml>\n",
    "            <o:OfficeDocumentSettings>\n",
    "                <o:PixelsPerInch>96</o:PixelsPerInch>\n",
    "            </o:OfficeDocumentSettings>\n",
    "        </xml>\n",
    "    </noscript>\n",
    "    <![endif]-->\n",
    "</head>\n",
    "\"\"\""
   ]
  },
  {
   "cell_type": "code",
   "execution_count": null,
   "id": "7055154c-d451-49db-ba4f-8a73d0df947e",
   "metadata": {},
   "outputs": [],
   "source": []
  }
 ],
 "metadata": {
  "kernelspec": {
   "display_name": "Python 3",
   "language": "python",
   "name": "python3"
  },
  "language_info": {
   "codemirror_mode": {
    "name": "ipython",
    "version": 3
   },
   "file_extension": ".py",
   "mimetype": "text/x-python",
   "name": "python",
   "nbconvert_exporter": "python",
   "pygments_lexer": "ipython3",
   "version": "3.9.1"
  }
 },
 "nbformat": 4,
 "nbformat_minor": 5
}
