{
 "cells": [
  {
   "cell_type": "code",
   "execution_count": 1,
   "id": "d8b04182-aa1c-401e-858c-f000737fab59",
   "metadata": {},
   "outputs": [],
   "source": [
    "import pickle\n",
    "from typing import List, Union"
   ]
  },
  {
   "cell_type": "code",
   "execution_count": 2,
   "id": "f3494766-f774-42b2-b525-86365a5fd676",
   "metadata": {},
   "outputs": [],
   "source": [
    "def open_old_clients(file_path: str) -> dict:\n",
    "    with open(file_path, 'rb') as f:\n",
    "        return pickle.load(f)\n",
    "\n",
    "def remove_clients(old_clients: dict, data_to_remove: List[str], by: str = 'mail') -> dict:\n",
    "    if by == 'mail':\n",
    "        return { k:v for k,v in old_clients.items() if v not in data_to_remove }\n",
    "    if by == 'name':\n",
    "        return { k:v for k,v in old_clients.items() if k not in data_to_remove }\n",
    "\n",
    "def add_clients(old_clients: dict, clients_to_add: dict) -> dict:\n",
    "    return dict(sorted({ **old_clients, **clients_to_add }.items()))\n",
    "\n",
    "def check_client_changes(old_clients: dict, curr_clients: dict, changes: Union[list, dict]) -> bool:\n",
    "    l1, l2, l3 = len(old_clients), len(curr_clients), len(changes)\n",
    "    check = abs(l1 - l2) == l3\n",
    "    print('Process applied correctly.\\nSAVING FILE...') if check else print('Missmatched process.\\nFILE NOT SAVED.')\n",
    "    return check\n",
    "\n",
    "def save_curr_clients(file_path: str, curr_clients) -> None:\n",
    "    with open(file_path, 'wb') as f:\n",
    "        pickle.dump(curr_clients, f)\n",
    "    print(f'Client list saved at: {file_path}\\nTotal clients: {len(curr_clients)}')"
   ]
  },
  {
   "cell_type": "code",
   "execution_count": 52,
   "id": "e9e745ec-41be-4ffe-9fb8-9de72980e4db",
   "metadata": {},
   "outputs": [],
   "source": [
    "OLD_FILE = './20220106_clients.pkl'\n",
    "NEW_FILE = './2022XXXX_clients.pkl'\n",
    "TO_REMOVE = [ ]"
   ]
  },
  {
   "cell_type": "code",
   "execution_count": 6,
   "id": "01b6c1d8-9e44-4832-b732-c9f8d131972e",
   "metadata": {},
   "outputs": [
    {
     "name": "stdout",
     "output_type": "stream",
     "text": [
      "Process applied correctly.\n",
      "SAVING FILE...\n",
      "Client list saved at: ./20211210_clients.pkl\n",
      "Total clients: 286\n"
     ]
    }
   ],
   "source": [
    "old_clients = open_old_clients(OLD_FILE)\n",
    "curr_clients = remove_clients(old_clients, TO_REMOVE, 'name')\n",
    "check = check_client_changes(old_clients, curr_clients, TO_REMOVE)\n",
    "if check: save_curr_clients(NEW_FILE, curr_clients)"
   ]
  }
 ],
 "metadata": {
  "kernelspec": {
   "display_name": "Python 3 (ipykernel)",
   "language": "python",
   "name": "python3"
  },
  "language_info": {
   "codemirror_mode": {
    "name": "ipython",
    "version": 3
   },
   "file_extension": ".py",
   "mimetype": "text/x-python",
   "name": "python",
   "nbconvert_exporter": "python",
   "pygments_lexer": "ipython3",
   "version": "3.9.7"
  }
 },
 "nbformat": 4,
 "nbformat_minor": 5
}
