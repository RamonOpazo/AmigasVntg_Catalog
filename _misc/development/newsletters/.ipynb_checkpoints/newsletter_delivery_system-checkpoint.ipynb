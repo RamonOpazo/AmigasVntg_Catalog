{
 "cells": [
  {
   "cell_type": "code",
   "execution_count": null,
   "id": "b5453710-3c99-4d34-803c-f3a0ab8e68f8",
   "metadata": {},
   "outputs": [],
   "source": [
    "from typing import List\n",
    "from os import path\n",
    "from re import findall\n",
    "from time import sleep\n",
    "\n",
    "import pickle\n",
    "import json\n",
    "import smtplib\n",
    "\n",
    "from email.mime.multipart import MIMEMultipart\n",
    "from email.mime.text import MIMEText"
   ]
  },
  {
   "cell_type": "code",
   "execution_count": null,
   "id": "93762750-adfd-4492-a2d4-315eca7f3181",
   "metadata": {},
   "outputs": [],
   "source": [
    "CLIENTS_FILE = path.join('clients/', '20211210_clients.pkl')\n",
    "HTML_FILE = path.join('htmls/', '20211211_grand-reopening.html')"
   ]
  },
  {
   "cell_type": "code",
   "execution_count": null,
   "id": "06c82fd8-efd7-4f21-9914-96c47ccfb0bf",
   "metadata": {},
   "outputs": [],
   "source": [
    "def load_auth(file_path: path) -> dict:\n",
    "    with open(file_path, 'r') as f:\n",
    "        return json.load(f)\n",
    "\n",
    "def load_clients(file_path: path) -> dict:\n",
    "    with open(file_path, 'rb') as f:\n",
    "        return pickle.load(f)\n",
    "\n",
    "def load_html(file_path: path) -> str:\n",
    "    with open(file_path, 'r') as f:\n",
    "        return f.read()\n",
    "\n",
    "def extract_subject(base_html: str) -> str:\n",
    "    return findall('<title.*?>(.+?)</title>', base_html)[0]\n",
    "    \n",
    "def compose_body(base_html: str, client_name: str) -> MIMEText:\n",
    "    name = f'{client_name.strip().split()[0]}'\n",
    "    body = base_html.replace('#$#CLIENTNAME', name)\n",
    "    return MIMEText(body, 'html')\n",
    "\n",
    "def compose_message(message_from: str, message_to: str, message_subject: str, message_body: MIMEText) -> MIMEMultipart:\n",
    "    message = MIMEMultipart()\n",
    "    message['From'] = message_from\n",
    "    message['To'] = message_to\n",
    "    message['Subject'] = message_subject\n",
    "    message.attach(message_body)\n",
    "    return message\n",
    "\n",
    "def mount_server(user: str, password: str) -> smtplib.SMTP_SSL:\n",
    "    try:\n",
    "        server = smtplib.SMTP_SSL('smtp.gmail.com', 465)\n",
    "        server.ehlo()\n",
    "        server.login(user, password)\n",
    "        print(' [✓] Succesful connection to server.')\n",
    "        return server\n",
    "    except Exception as err:\n",
    "        print(f' [×] Something went wrong...\\n --- {err}')\n",
    "    \n",
    "def send_unitary_email(auth: dict, base_html: str, recipient_name: str, recipient_email: str, subject: str, waiting_period=15) -> None:\n",
    "    user, pswd, gkey = auth.values()\n",
    "    body = compose_body(base_html, recipient_name)\n",
    "    mssg = compose_message(user, recipient_email, subject, body)\n",
    "    try:\n",
    "        server = mount_server(user, gkey)\n",
    "        server.send_message(mssg)\n",
    "        print(' [✓] Email delivered!')\n",
    "    except Exception as err:\n",
    "        print(f' [×] Failure to deliver email to recipient.\\n --- {err}\\n --- Trying again in {waiting_period} seconds...')\n",
    "        sleep(waiting_period)\n",
    "        send_unitary_email(auth, base_html, recipient_name, recipient_email, subject)\n",
    "        \n",
    "def send_bulk_emails(auth: dict, clients: dict, base_html: str, subject: str) -> None:\n",
    "    for recipient_name, recipient_email in clients.items():\n",
    "        print(f'Sending email to: {recipient_name}, at: {recipient_email}')\n",
    "        send_unitary_email(auth, base_html, recipient_name, recipient_email, subject)\n",
    "        \n",
    "def send_test_email(auth: dict, base_html: str, subject: str) -> None:\n",
    "    recipient_name = 'CAMPAIGN-TEST'\n",
    "    recipient_email = auth['USER']\n",
    "    send_unitary_email(auth, base_html, recipient_name, recipient_email, subject)"
   ]
  },
  {
   "cell_type": "code",
   "execution_count": null,
   "id": "cf24bba9-13f0-417d-99cf-cec294eedc8d",
   "metadata": {},
   "outputs": [],
   "source": [
    "auth = load_auth(path.join('auth.json'))\n",
    "base_html = load_html(HTML_FILE)\n",
    "subject = extract_subject(base_html)\n",
    "clients = load_clients(CLIENTS_FILE)\n",
    "clients.update({'AMIGAS-VNTG': auth['USER']})"
   ]
  },
  {
   "cell_type": "code",
   "execution_count": null,
   "id": "efd73a1d-4e43-45c8-a3ee-e668fdb228fd",
   "metadata": {},
   "outputs": [],
   "source": [
    "send_test_email(auth, base_html, subject)"
   ]
  },
  {
   "cell_type": "code",
   "execution_count": null,
   "id": "3c0373c0-2450-4fd1-bf28-58b0405efc71",
   "metadata": {},
   "outputs": [],
   "source": [
    "# Bulk processing of campaign emails.\n",
    "send_bulk_emails(auth, clients, base_html, subject)"
   ]
  },
  {
   "cell_type": "code",
   "execution_count": null,
   "id": "e64ea0c9-3048-4890-8d43-842c9e81fb93",
   "metadata": {},
   "outputs": [],
   "source": []
  }
 ],
 "metadata": {
  "kernelspec": {
   "display_name": "Python 3 (ipykernel)",
   "language": "python",
   "name": "python3"
  },
  "language_info": {
   "codemirror_mode": {
    "name": "ipython",
    "version": 3
   },
   "file_extension": ".py",
   "mimetype": "text/x-python",
   "name": "python",
   "nbconvert_exporter": "python",
   "pygments_lexer": "ipython3",
   "version": "3.9.7"
  }
 },
 "nbformat": 4,
 "nbformat_minor": 5
}
