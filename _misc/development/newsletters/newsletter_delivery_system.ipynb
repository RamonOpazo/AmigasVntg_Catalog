{
 "cells": [
  {
   "cell_type": "code",
   "execution_count": 18,
   "id": "b5453710-3c99-4d34-803c-f3a0ab8e68f8",
   "metadata": {},
   "outputs": [],
   "source": [
    "from typing import List\n",
    "from os import path\n",
    "from re import findall\n",
    "from time import sleep\n",
    "from tqdm import tqdm\n",
    "\n",
    "import pickle\n",
    "import json\n",
    "import smtplib\n",
    "\n",
    "from email.mime.multipart import MIMEMultipart\n",
    "from email.mime.text import MIMEText"
   ]
  },
  {
   "cell_type": "code",
   "execution_count": 19,
   "id": "93762750-adfd-4492-a2d4-315eca7f3181",
   "metadata": {},
   "outputs": [],
   "source": [
    "CLIENTS_FILE = path.join('clients/', '20220106_clients.pkl')\n",
    "HTML_FILE = path.join('htmls/', '20220303_summer-sale.html')"
   ]
  },
  {
   "cell_type": "code",
   "execution_count": 24,
   "id": "06c82fd8-efd7-4f21-9914-96c47ccfb0bf",
   "metadata": {},
   "outputs": [],
   "source": [
    "def load_auth(file_path: path) -> dict:\n",
    "    with open(file_path, 'r') as f:\n",
    "        return json.load(f)\n",
    "\n",
    "def load_clients(file_path: path) -> dict:\n",
    "    with open(file_path, 'rb') as f:\n",
    "        return pickle.load(f)\n",
    "\n",
    "def load_html(file_path: path) -> str:\n",
    "    with open(file_path, 'r') as f:\n",
    "        return f.read()\n",
    "\n",
    "def extract_subject(base_html: str) -> str:\n",
    "    return findall('<title.*?>(.+?)</title>', base_html)[0]\n",
    "    \n",
    "def compose_body(base_html: str, client_name: str) -> MIMEText:\n",
    "    name = f'{client_name.strip().split()[0]}'\n",
    "    body = base_html.replace('#$#CLIENTNAME', name)\n",
    "    return MIMEText(body, 'html')\n",
    "\n",
    "def compose_message(message_from: str, message_to: str, message_subject: str, message_body: MIMEText) -> MIMEMultipart:\n",
    "    message = MIMEMultipart()\n",
    "    message['From'] = message_from\n",
    "    message['To'] = message_to\n",
    "    message['Subject'] = message_subject\n",
    "    message.attach(message_body)\n",
    "    return message\n",
    "\n",
    "def mount_server(user: str, password: str) -> smtplib.SMTP_SSL:\n",
    "    try:\n",
    "        server = smtplib.SMTP_SSL('smtp.gmail.com', 465)\n",
    "        server.ehlo()\n",
    "        server.login(user, password)\n",
    "        print(' [✓] Succesful connection to server.')\n",
    "        return server\n",
    "    except Exception as err:\n",
    "        print(f' [×] Something went wrong...\\n --- {err}')\n",
    "    \n",
    "def send_unitary_email(auth: dict, base_html: str, recipient_name: str, recipient_email: str, subject: str, waiting_period=15) -> None:\n",
    "    user, pswd, gkey = auth.values()\n",
    "    body = compose_body(base_html, recipient_name)\n",
    "    mssg = compose_message(user, recipient_email, subject, body)\n",
    "    try:\n",
    "        server = mount_server(user, gkey)\n",
    "        server.send_message(mssg)\n",
    "        print(' [✓] Email delivered!')\n",
    "    except Exception as err:\n",
    "        print(f' [×] Failure to deliver email to recipient.\\n --- {err}\\n --- Trying again in {waiting_period} seconds...')\n",
    "        sleep(waiting_period)\n",
    "        send_unitary_email(auth, base_html, recipient_name, recipient_email, subject)\n",
    "        \n",
    "def send_bulk_emails(auth: dict, clients: dict, base_html: str, subject: str) -> None:\n",
    "    pbar = tqdm(clients.items())\n",
    "    for recipient_name, recipient_email in pbar:\n",
    "        pbar.set_description(f'Sending email to {recipient_name}')\n",
    "        send_unitary_email(auth, base_html, recipient_name, recipient_email, subject)\n",
    "        \n",
    "def send_test_email(auth: dict, base_html: str, subject: str) -> None:\n",
    "    recipient_name = 'CAMPAIGN-TEST'\n",
    "    recipient_email = auth['USER']\n",
    "    send_unitary_email(auth, base_html, recipient_name, recipient_email, subject)"
   ]
  },
  {
   "cell_type": "code",
   "execution_count": 21,
   "id": "cf24bba9-13f0-417d-99cf-cec294eedc8d",
   "metadata": {},
   "outputs": [],
   "source": [
    "auth = load_auth(path.join('auth.json'))\n",
    "base_html = load_html(HTML_FILE)\n",
    "subject = extract_subject(base_html)\n",
    "clients = load_clients(CLIENTS_FILE)\n",
    "clients.update({'AMIGAS-VNTG': auth['USER']})"
   ]
  },
  {
   "cell_type": "code",
   "execution_count": 22,
   "id": "efd73a1d-4e43-45c8-a3ee-e668fdb228fd",
   "metadata": {},
   "outputs": [
    {
     "name": "stdout",
     "output_type": "stream",
     "text": [
      " [✓] Succesful connection to server.\n",
      " [✓] Email delivered!\n"
     ]
    }
   ],
   "source": [
    "send_test_email(auth, base_html, subject)"
   ]
  },
  {
   "cell_type": "code",
   "execution_count": 25,
   "id": "3c0373c0-2450-4fd1-bf28-58b0405efc71",
   "metadata": {},
   "outputs": [
    {
     "name": "stderr",
     "output_type": "stream",
     "text": [
      "Sending email to Adriana Latorre Carvallo:   0%|                                                          | 0/286 [00:00<?, ?it/s]"
     ]
    },
    {
     "name": "stdout",
     "output_type": "stream",
     "text": [
      " [✓] Succesful connection to server.\n"
     ]
    },
    {
     "name": "stderr",
     "output_type": "stream",
     "text": [
      "Sending email to Akarimm:   0%|▏                                                                  | 1/286 [00:02<09:37,  2.03s/it]"
     ]
    },
    {
     "name": "stdout",
     "output_type": "stream",
     "text": [
      " [✓] Email delivered!\n",
      " [✓] Succesful connection to server.\n"
     ]
    },
    {
     "name": "stderr",
     "output_type": "stream",
     "text": [
      "Sending email to Akza Ugarte:   1%|▍                                                              | 2/286 [00:03<09:03,  1.91s/it]"
     ]
    },
    {
     "name": "stdout",
     "output_type": "stream",
     "text": [
      " [✓] Email delivered!\n",
      " [✓] Succesful connection to server.\n"
     ]
    },
    {
     "name": "stderr",
     "output_type": "stream",
     "text": [
      "Sending email to Alejandra Aparicio:   1%|▌                                                       | 3/286 [00:05<09:16,  1.97s/it]"
     ]
    },
    {
     "name": "stdout",
     "output_type": "stream",
     "text": [
      " [✓] Email delivered!\n",
      " [✓] Succesful connection to server.\n"
     ]
    },
    {
     "name": "stderr",
     "output_type": "stream",
     "text": [
      "Sending email to Alejandra Campos:   1%|▊                                                         | 4/286 [00:07<09:07,  1.94s/it]"
     ]
    },
    {
     "name": "stdout",
     "output_type": "stream",
     "text": [
      " [✓] Email delivered!\n",
      " [✓] Succesful connection to server.\n"
     ]
    },
    {
     "name": "stderr",
     "output_type": "stream",
     "text": [
      "Sending email to Alejandra Espinoza García:   2%|▊                                                | 5/286 [00:10<09:46,  2.09s/it]"
     ]
    },
    {
     "name": "stdout",
     "output_type": "stream",
     "text": [
      " [✓] Email delivered!\n",
      " [✓] Succesful connection to server.\n"
     ]
    },
    {
     "name": "stderr",
     "output_type": "stream",
     "text": [
      "Sending email to Alejandra Ortega:   2%|█▏                                                        | 6/286 [00:11<09:19,  2.00s/it]"
     ]
    },
    {
     "name": "stdout",
     "output_type": "stream",
     "text": [
      " [✓] Email delivered!\n",
      " [✓] Succesful connection to server.\n"
     ]
    },
    {
     "name": "stderr",
     "output_type": "stream",
     "text": [
      "Sending email to Alejandra Oyarzún Vargas:   2%|█▏                                                | 7/286 [00:13<09:04,  1.95s/it]"
     ]
    },
    {
     "name": "stdout",
     "output_type": "stream",
     "text": [
      " [✓] Email delivered!\n",
      " [✓] Succesful connection to server.\n"
     ]
    },
    {
     "name": "stderr",
     "output_type": "stream",
     "text": [
      "Sending email to Alejandra Rojas Calderón:   3%|█▍                                                | 8/286 [00:16<09:36,  2.08s/it]"
     ]
    },
    {
     "name": "stdout",
     "output_type": "stream",
     "text": [
      " [✓] Email delivered!\n",
      " [✓] Succesful connection to server.\n"
     ]
    },
    {
     "name": "stderr",
     "output_type": "stream",
     "text": [
      "Sending email to Alejandra Valeria González Guevara:   3%|█▎                                      | 9/286 [00:18<09:58,  2.16s/it]"
     ]
    },
    {
     "name": "stdout",
     "output_type": "stream",
     "text": [
      " [✓] Email delivered!\n",
      " [✓] Succesful connection to server.\n"
     ]
    },
    {
     "name": "stderr",
     "output_type": "stream",
     "text": [
      "Sending email to Alexandra Fajardo Razmilic:   3%|█▋                                             | 10/286 [00:20<09:36,  2.09s/it]"
     ]
    },
    {
     "name": "stdout",
     "output_type": "stream",
     "text": [
      " [✓] Email delivered!\n",
      " [✓] Succesful connection to server.\n"
     ]
    },
    {
     "name": "stderr",
     "output_type": "stream",
     "text": [
      "Sending email to Amparo Gutiérrez:   4%|██▏                                                      | 11/286 [00:22<09:15,  2.02s/it]"
     ]
    },
    {
     "name": "stdout",
     "output_type": "stream",
     "text": [
      " [✓] Email delivered!\n",
      " [✓] Succesful connection to server.\n"
     ]
    },
    {
     "name": "stderr",
     "output_type": "stream",
     "text": [
      "Sending email to Ana Fernandez:   4%|██▌                                                         | 12/286 [00:24<09:03,  1.98s/it]"
     ]
    },
    {
     "name": "stdout",
     "output_type": "stream",
     "text": [
      " [✓] Email delivered!\n",
      " [✓] Succesful connection to server.\n"
     ]
    },
    {
     "name": "stderr",
     "output_type": "stream",
     "text": [
      "Sending email to Ana Yañez:   5%|██▉                                                             | 13/286 [00:26<09:05,  2.00s/it]"
     ]
    },
    {
     "name": "stdout",
     "output_type": "stream",
     "text": [
      " [✓] Email delivered!\n",
      " [✓] Succesful connection to server.\n"
     ]
    },
    {
     "name": "stderr",
     "output_type": "stream",
     "text": [
      "Sending email to Andrea Araneda:   5%|██▉                                                        | 14/286 [00:28<08:48,  1.94s/it]"
     ]
    },
    {
     "name": "stdout",
     "output_type": "stream",
     "text": [
      " [✓] Email delivered!\n",
      " [✓] Succesful connection to server.\n"
     ]
    },
    {
     "name": "stderr",
     "output_type": "stream",
     "text": [
      "Sending email to Andrea Echeverría:   5%|██▉                                                     | 15/286 [00:30<09:17,  2.06s/it]"
     ]
    },
    {
     "name": "stdout",
     "output_type": "stream",
     "text": [
      " [✓] Email delivered!\n",
      " [✓] Succesful connection to server.\n"
     ]
    },
    {
     "name": "stderr",
     "output_type": "stream",
     "text": [
      "Sending email to Andrea Manríquez:   6%|███▏                                                     | 16/286 [00:32<09:39,  2.15s/it]"
     ]
    },
    {
     "name": "stdout",
     "output_type": "stream",
     "text": [
      " [✓] Email delivered!\n",
      " [✓] Succesful connection to server.\n"
     ]
    },
    {
     "name": "stderr",
     "output_type": "stream",
     "text": [
      "Sending email to Andrea Salazar:   6%|███▌                                                       | 17/286 [00:34<09:10,  2.05s/it]"
     ]
    },
    {
     "name": "stdout",
     "output_type": "stream",
     "text": [
      " [✓] Email delivered!\n",
      " [✓] Succesful connection to server.\n"
     ]
    },
    {
     "name": "stderr",
     "output_type": "stream",
     "text": [
      "Sending email to Andrea San Martín:   6%|███▌                                                    | 18/286 [00:36<08:56,  2.00s/it]"
     ]
    },
    {
     "name": "stdout",
     "output_type": "stream",
     "text": [
      " [✓] Email delivered!\n",
      " [✓] Succesful connection to server.\n"
     ]
    },
    {
     "name": "stderr",
     "output_type": "stream",
     "text": [
      "Sending email to Andrea Silva:   7%|████                                                         | 19/286 [00:38<08:44,  1.96s/it]"
     ]
    },
    {
     "name": "stdout",
     "output_type": "stream",
     "text": [
      " [✓] Email delivered!\n",
      " [✓] Succesful connection to server.\n"
     ]
    },
    {
     "name": "stderr",
     "output_type": "stream",
     "text": [
      "Sending email to Angélica Villalobos:   7%|███▊                                                  | 20/286 [00:40<08:31,  1.92s/it]"
     ]
    },
    {
     "name": "stdout",
     "output_type": "stream",
     "text": [
      " [✓] Email delivered!\n",
      " [✓] Succesful connection to server.\n"
     ]
    },
    {
     "name": "stderr",
     "output_type": "stream",
     "text": [
      "Sending email to Antonieta Lanas Canales:   7%|███▋                                              | 21/286 [00:42<08:33,  1.94s/it]"
     ]
    },
    {
     "name": "stdout",
     "output_type": "stream",
     "text": [
      " [✓] Email delivered!\n",
      " [✓] Succesful connection to server.\n"
     ]
    },
    {
     "name": "stderr",
     "output_type": "stream",
     "text": [
      "Sending email to Ariana Henriquez:   8%|████▍                                                    | 22/286 [00:44<08:38,  1.96s/it]"
     ]
    },
    {
     "name": "stdout",
     "output_type": "stream",
     "text": [
      " [✓] Email delivered!\n",
      " [✓] Succesful connection to server.\n"
     ]
    },
    {
     "name": "stderr",
     "output_type": "stream",
     "text": [
      "Sending email to Barbara Carreño:   8%|████▋                                                     | 23/286 [00:46<08:28,  1.94s/it]"
     ]
    },
    {
     "name": "stdout",
     "output_type": "stream",
     "text": [
      " [✓] Email delivered!\n",
      " [✓] Succesful connection to server.\n"
     ]
    },
    {
     "name": "stderr",
     "output_type": "stream",
     "text": [
      "Sending email to Belén Figueroa:   8%|████▉                                                      | 24/286 [00:47<08:25,  1.93s/it]"
     ]
    },
    {
     "name": "stdout",
     "output_type": "stream",
     "text": [
      " [✓] Email delivered!\n",
      " [✓] Succesful connection to server.\n"
     ]
    },
    {
     "name": "stderr",
     "output_type": "stream",
     "text": [
      "Sending email to Bernardita :   9%|█████▍                                                        | 25/286 [00:49<08:26,  1.94s/it]"
     ]
    },
    {
     "name": "stdout",
     "output_type": "stream",
     "text": [
      " [✓] Email delivered!\n",
      " [✓] Succesful connection to server.\n"
     ]
    },
    {
     "name": "stderr",
     "output_type": "stream",
     "text": [
      "Sending email to Brenda Casanga Astorga:   9%|████▋                                              | 26/286 [00:51<08:27,  1.95s/it]"
     ]
    },
    {
     "name": "stdout",
     "output_type": "stream",
     "text": [
      " [✓] Email delivered!\n",
      " [✓] Succesful connection to server.\n"
     ]
    },
    {
     "name": "stderr",
     "output_type": "stream",
     "text": [
      "Sending email to Brenda Rain:   9%|█████▊                                                        | 27/286 [00:53<08:16,  1.92s/it]"
     ]
    },
    {
     "name": "stdout",
     "output_type": "stream",
     "text": [
      " [✓] Email delivered!\n",
      " [✓] Succesful connection to server.\n"
     ]
    },
    {
     "name": "stderr",
     "output_type": "stream",
     "text": [
      "Sending email to Bárbara Poblete:  10%|█████▋                                                    | 28/286 [00:55<08:06,  1.88s/it]"
     ]
    },
    {
     "name": "stdout",
     "output_type": "stream",
     "text": [
      " [✓] Email delivered!\n",
      " [✓] Succesful connection to server.\n"
     ]
    },
    {
     "name": "stderr",
     "output_type": "stream",
     "text": [
      "Sending email to Caitlin Mcnamara:  10%|█████▊                                                   | 29/286 [00:57<08:40,  2.03s/it]"
     ]
    },
    {
     "name": "stdout",
     "output_type": "stream",
     "text": [
      " [✓] Email delivered!\n",
      " [✓] Succesful connection to server.\n"
     ]
    },
    {
     "name": "stderr",
     "output_type": "stream",
     "text": [
      "Sending email to Camila Alonso:  10%|██████▎                                                     | 30/286 [01:00<08:58,  2.10s/it]"
     ]
    },
    {
     "name": "stdout",
     "output_type": "stream",
     "text": [
      " [✓] Email delivered!\n",
      " [✓] Succesful connection to server.\n"
     ]
    },
    {
     "name": "stderr",
     "output_type": "stream",
     "text": [
      "Sending email to Camila Banchero:  11%|██████▎                                                   | 31/286 [01:01<08:35,  2.02s/it]"
     ]
    },
    {
     "name": "stdout",
     "output_type": "stream",
     "text": [
      " [✓] Email delivered!\n",
      " [✓] Succesful connection to server.\n"
     ]
    },
    {
     "name": "stderr",
     "output_type": "stream",
     "text": [
      "Sending email to Camila Cabello:  11%|██████▌                                                    | 32/286 [01:04<09:06,  2.15s/it]"
     ]
    },
    {
     "name": "stdout",
     "output_type": "stream",
     "text": [
      " [✓] Email delivered!\n",
      " [✓] Succesful connection to server.\n"
     ]
    },
    {
     "name": "stderr",
     "output_type": "stream",
     "text": [
      "Sending email to Camila Carreño:  12%|██████▊                                                    | 33/286 [01:06<08:40,  2.06s/it]"
     ]
    },
    {
     "name": "stdout",
     "output_type": "stream",
     "text": [
      " [✓] Email delivered!\n",
      " [✓] Succesful connection to server.\n"
     ]
    },
    {
     "name": "stderr",
     "output_type": "stream",
     "text": [
      "Sending email to Camila Durán:  12%|███████▎                                                     | 34/286 [01:08<08:53,  2.12s/it]"
     ]
    },
    {
     "name": "stdout",
     "output_type": "stream",
     "text": [
      " [✓] Email delivered!\n",
      " [✓] Succesful connection to server.\n"
     ]
    },
    {
     "name": "stderr",
     "output_type": "stream",
     "text": [
      "Sending email to Camila Espinoza Sylvester:  12%|█████▊                                          | 35/286 [01:10<08:27,  2.02s/it]"
     ]
    },
    {
     "name": "stdout",
     "output_type": "stream",
     "text": [
      " [✓] Email delivered!\n",
      " [✓] Succesful connection to server.\n"
     ]
    },
    {
     "name": "stderr",
     "output_type": "stream",
     "text": [
      "Sending email to Camila Francisca Rebolledo González:  13%|████▊                                 | 36/286 [01:12<08:08,  1.95s/it]"
     ]
    },
    {
     "name": "stdout",
     "output_type": "stream",
     "text": [
      " [✓] Email delivered!\n",
      " [✓] Succesful connection to server.\n"
     ]
    },
    {
     "name": "stderr",
     "output_type": "stream",
     "text": [
      "Sending email to Camila Herrera:  13%|███████▋                                                   | 37/286 [01:13<07:57,  1.92s/it]"
     ]
    },
    {
     "name": "stdout",
     "output_type": "stream",
     "text": [
      " [✓] Email delivered!\n",
      " [✓] Succesful connection to server.\n"
     ]
    },
    {
     "name": "stderr",
     "output_type": "stream",
     "text": [
      "Sending email to Camila Lobos Harper:  13%|███████▏                                              | 38/286 [01:15<07:57,  1.93s/it]"
     ]
    },
    {
     "name": "stdout",
     "output_type": "stream",
     "text": [
      " [✓] Email delivered!\n",
      " [✓] Succesful connection to server.\n"
     ]
    },
    {
     "name": "stderr",
     "output_type": "stream",
     "text": [
      "Sending email to Camila Lorca:  14%|████████▎                                                    | 39/286 [01:17<07:46,  1.89s/it]"
     ]
    },
    {
     "name": "stdout",
     "output_type": "stream",
     "text": [
      " [✓] Email delivered!\n",
      " [✓] Succesful connection to server.\n"
     ]
    },
    {
     "name": "stderr",
     "output_type": "stream",
     "text": [
      "Sending email to Camila Mayanz:  14%|████████▍                                                   | 40/286 [01:19<07:35,  1.85s/it]"
     ]
    },
    {
     "name": "stdout",
     "output_type": "stream",
     "text": [
      " [✓] Email delivered!\n",
      " [✓] Succesful connection to server.\n"
     ]
    },
    {
     "name": "stderr",
     "output_type": "stream",
     "text": [
      "Sending email to Camila Rebolledo:  14%|████████▏                                                | 41/286 [01:21<08:06,  1.99s/it]"
     ]
    },
    {
     "name": "stdout",
     "output_type": "stream",
     "text": [
      " [✓] Email delivered!\n",
      " [✓] Succesful connection to server.\n"
     ]
    },
    {
     "name": "stderr",
     "output_type": "stream",
     "text": [
      "Sending email to Camila Reyes Retamal:  15%|███████▊                                             | 42/286 [01:23<07:54,  1.94s/it]"
     ]
    },
    {
     "name": "stdout",
     "output_type": "stream",
     "text": [
      " [✓] Email delivered!\n",
      " [✓] Succesful connection to server.\n"
     ]
    },
    {
     "name": "stderr",
     "output_type": "stream",
     "text": [
      "Sending email to Camila Rojas Riquelme:  15%|███████▊                                            | 43/286 [01:25<07:57,  1.97s/it]"
     ]
    },
    {
     "name": "stdout",
     "output_type": "stream",
     "text": [
      " [✓] Email delivered!\n",
      " [✓] Succesful connection to server.\n"
     ]
    },
    {
     "name": "stderr",
     "output_type": "stream",
     "text": [
      "Sending email to Camila Solis:  15%|█████████▍                                                   | 44/286 [01:27<07:43,  1.92s/it]"
     ]
    },
    {
     "name": "stdout",
     "output_type": "stream",
     "text": [
      " [✓] Email delivered!\n",
      " [✓] Succesful connection to server.\n"
     ]
    },
    {
     "name": "stderr",
     "output_type": "stream",
     "text": [
      "Sending email to Carla Cortes:  16%|█████████▌                                                   | 45/286 [01:29<08:05,  2.02s/it]"
     ]
    },
    {
     "name": "stdout",
     "output_type": "stream",
     "text": [
      " [✓] Email delivered!\n",
      " [✓] Succesful connection to server.\n"
     ]
    },
    {
     "name": "stderr",
     "output_type": "stream",
     "text": [
      "Sending email to Carla Ferrada:  16%|█████████▋                                                  | 46/286 [01:31<08:01,  2.01s/it]"
     ]
    },
    {
     "name": "stdout",
     "output_type": "stream",
     "text": [
      " [✓] Email delivered!\n",
      " [✓] Succesful connection to server.\n"
     ]
    },
    {
     "name": "stderr",
     "output_type": "stream",
     "text": [
      "Sending email to Carla Peña:  16%|██████████▎                                                    | 47/286 [01:33<08:18,  2.08s/it]"
     ]
    },
    {
     "name": "stdout",
     "output_type": "stream",
     "text": [
      " [✓] Email delivered!\n",
      " [✓] Succesful connection to server.\n"
     ]
    },
    {
     "name": "stderr",
     "output_type": "stream",
     "text": [
      "Sending email to Carmen Paz Inostroza Burgos:  17%|███████▋                                      | 48/286 [01:35<07:54,  1.99s/it]"
     ]
    },
    {
     "name": "stdout",
     "output_type": "stream",
     "text": [
      " [✓] Email delivered!\n",
      " [✓] Succesful connection to server.\n"
     ]
    },
    {
     "name": "stderr",
     "output_type": "stream",
     "text": [
      "Sending email to Carmen Suárez:  17%|██████████▎                                                 | 49/286 [01:37<07:45,  1.96s/it]"
     ]
    },
    {
     "name": "stdout",
     "output_type": "stream",
     "text": [
      " [✓] Email delivered!\n",
      " [✓] Succesful connection to server.\n"
     ]
    },
    {
     "name": "stderr",
     "output_type": "stream",
     "text": [
      "Sending email to Carolina Ahumada Ortiz:  17%|████████▉                                          | 50/286 [01:39<07:33,  1.92s/it]"
     ]
    },
    {
     "name": "stdout",
     "output_type": "stream",
     "text": [
      " [✓] Email delivered!\n",
      " [✓] Succesful connection to server.\n"
     ]
    },
    {
     "name": "stderr",
     "output_type": "stream",
     "text": [
      "Sending email to Carolina Carrasco:  18%|█████████▉                                              | 51/286 [01:41<08:05,  2.07s/it]"
     ]
    },
    {
     "name": "stdout",
     "output_type": "stream",
     "text": [
      " [✓] Email delivered!\n",
      " [✓] Succesful connection to server.\n"
     ]
    },
    {
     "name": "stderr",
     "output_type": "stream",
     "text": [
      "Sending email to Carolina Castel :  18%|██████████▎                                              | 52/286 [01:43<07:41,  1.97s/it]"
     ]
    },
    {
     "name": "stdout",
     "output_type": "stream",
     "text": [
      " [✓] Email delivered!\n",
      " [✓] Succesful connection to server.\n"
     ]
    },
    {
     "name": "stderr",
     "output_type": "stream",
     "text": [
      "Sending email to Carolina Nahuelpi:  19%|██████████▍                                             | 53/286 [01:45<07:26,  1.92s/it]"
     ]
    },
    {
     "name": "stdout",
     "output_type": "stream",
     "text": [
      " [✓] Email delivered!\n",
      " [✓] Succesful connection to server.\n"
     ]
    },
    {
     "name": "stderr",
     "output_type": "stream",
     "text": [
      "Sending email to Carolina Nuñez:  19%|███████████▏                                               | 54/286 [01:47<07:20,  1.90s/it]"
     ]
    },
    {
     "name": "stdout",
     "output_type": "stream",
     "text": [
      " [✓] Email delivered!\n",
      " [✓] Succesful connection to server.\n"
     ]
    },
    {
     "name": "stderr",
     "output_type": "stream",
     "text": [
      "Sending email to Carolina Rodriguez Vergara:  19%|█████████                                      | 55/286 [01:49<07:43,  2.00s/it]"
     ]
    },
    {
     "name": "stdout",
     "output_type": "stream",
     "text": [
      " [✓] Email delivered!\n",
      " [✓] Succesful connection to server.\n"
     ]
    },
    {
     "name": "stderr",
     "output_type": "stream",
     "text": [
      "Sending email to Catalina Alejandra Serey Valdivia:  20%|███████▊                                | 56/286 [01:51<08:04,  2.11s/it]"
     ]
    },
    {
     "name": "stdout",
     "output_type": "stream",
     "text": [
      " [✓] Email delivered!\n",
      " [✓] Succesful connection to server.\n"
     ]
    },
    {
     "name": "stderr",
     "output_type": "stream",
     "text": [
      "Sending email to Catalina Alvarado:  20%|███████████▏                                            | 57/286 [01:53<07:40,  2.01s/it]"
     ]
    },
    {
     "name": "stdout",
     "output_type": "stream",
     "text": [
      " [✓] Email delivered!\n",
      " [✓] Succesful connection to server.\n"
     ]
    },
    {
     "name": "stderr",
     "output_type": "stream",
     "text": [
      "Sending email to Catalina Avendaño:  20%|███████████▎                                            | 58/286 [01:55<07:30,  1.98s/it]"
     ]
    },
    {
     "name": "stdout",
     "output_type": "stream",
     "text": [
      " [✓] Email delivered!\n",
      " [✓] Succesful connection to server.\n"
     ]
    },
    {
     "name": "stderr",
     "output_type": "stream",
     "text": [
      "Sending email to Catalina Espinoza Gallardo:  21%|█████████▋                                     | 59/286 [01:57<07:12,  1.91s/it]"
     ]
    },
    {
     "name": "stdout",
     "output_type": "stream",
     "text": [
      " [✓] Email delivered!\n",
      " [✓] Succesful connection to server.\n"
     ]
    },
    {
     "name": "stderr",
     "output_type": "stream",
     "text": [
      "Sending email to Catalina Romo Escudero:  21%|██████████▋                                        | 60/286 [01:59<07:08,  1.90s/it]"
     ]
    },
    {
     "name": "stdout",
     "output_type": "stream",
     "text": [
      " [✓] Email delivered!\n",
      " [✓] Succesful connection to server.\n"
     ]
    },
    {
     "name": "stderr",
     "output_type": "stream",
     "text": [
      "Sending email to Catalina Villanueva:  21%|███████████▌                                          | 61/286 [02:00<06:59,  1.86s/it]"
     ]
    },
    {
     "name": "stdout",
     "output_type": "stream",
     "text": [
      " [✓] Email delivered!\n",
      " [✓] Succesful connection to server.\n"
     ]
    },
    {
     "name": "stderr",
     "output_type": "stream",
     "text": [
      "Sending email to Catalina Álvarez:  22%|████████████▎                                            | 62/286 [02:02<06:49,  1.83s/it]"
     ]
    },
    {
     "name": "stdout",
     "output_type": "stream",
     "text": [
      " [✓] Email delivered!\n",
      " [✓] Succesful connection to server.\n"
     ]
    },
    {
     "name": "stderr",
     "output_type": "stream",
     "text": [
      "Sending email to Cecilia Amigo Hermosilla:  22%|██████████▊                                      | 63/286 [02:04<06:49,  1.83s/it]"
     ]
    },
    {
     "name": "stdout",
     "output_type": "stream",
     "text": [
      " [✓] Email delivered!\n",
      " [✓] Succesful connection to server.\n"
     ]
    },
    {
     "name": "stderr",
     "output_type": "stream",
     "text": [
      "Sending email to Cegutierrez:  22%|█████████████▊                                                | 64/286 [02:06<06:47,  1.84s/it]"
     ]
    },
    {
     "name": "stdout",
     "output_type": "stream",
     "text": [
      " [✓] Email delivered!\n",
      " [✓] Succesful connection to server.\n"
     ]
    },
    {
     "name": "stderr",
     "output_type": "stream",
     "text": [
      "Sending email to Chandra Kripalani:  23%|████████████▋                                           | 65/286 [02:08<06:46,  1.84s/it]"
     ]
    },
    {
     "name": "stdout",
     "output_type": "stream",
     "text": [
      " [✓] Email delivered!\n",
      " [✓] Succesful connection to server.\n"
     ]
    },
    {
     "name": "stderr",
     "output_type": "stream",
     "text": [
      "Sending email to Cinthia Garrido:  23%|█████████████▍                                            | 66/286 [02:10<06:42,  1.83s/it]"
     ]
    },
    {
     "name": "stdout",
     "output_type": "stream",
     "text": [
      " [✓] Email delivered!\n",
      " [✓] Succesful connection to server.\n"
     ]
    },
    {
     "name": "stderr",
     "output_type": "stream",
     "text": [
      "Sending email to Cinthia Paz:  23%|██████████████▌                                               | 67/286 [02:11<06:44,  1.85s/it]"
     ]
    },
    {
     "name": "stdout",
     "output_type": "stream",
     "text": [
      " [✓] Email delivered!\n",
      " [✓] Succesful connection to server.\n"
     ]
    },
    {
     "name": "stderr",
     "output_type": "stream",
     "text": [
      "Sending email to Cinthia Zamora:  24%|██████████████                                             | 68/286 [02:14<07:15,  2.00s/it]"
     ]
    },
    {
     "name": "stdout",
     "output_type": "stream",
     "text": [
      " [✓] Email delivered!\n",
      " [✓] Succesful connection to server.\n"
     ]
    },
    {
     "name": "stderr",
     "output_type": "stream",
     "text": [
      "Sending email to Claudia Breton Jara:  24%|█████████████                                         | 69/286 [02:16<06:59,  1.93s/it]"
     ]
    },
    {
     "name": "stdout",
     "output_type": "stream",
     "text": [
      " [✓] Email delivered!\n",
      " [✓] Succesful connection to server.\n"
     ]
    },
    {
     "name": "stderr",
     "output_type": "stream",
     "text": [
      "Sending email to Claudia Herreros:  24%|█████████████▉                                           | 70/286 [02:17<06:49,  1.90s/it]"
     ]
    },
    {
     "name": "stdout",
     "output_type": "stream",
     "text": [
      " [✓] Email delivered!\n",
      " [✓] Succesful connection to server.\n"
     ]
    },
    {
     "name": "stderr",
     "output_type": "stream",
     "text": [
      "Sending email to Claudia Montero:  25%|██████████████▍                                           | 71/286 [02:19<06:38,  1.85s/it]"
     ]
    },
    {
     "name": "stdout",
     "output_type": "stream",
     "text": [
      " [✓] Email delivered!\n",
      " [✓] Succesful connection to server.\n"
     ]
    },
    {
     "name": "stderr",
     "output_type": "stream",
     "text": [
      "Sending email to Claudia Pons García:  25%|█████████████▌                                        | 72/286 [02:21<06:33,  1.84s/it]"
     ]
    },
    {
     "name": "stdout",
     "output_type": "stream",
     "text": [
      " [✓] Email delivered!\n",
      " [✓] Succesful connection to server.\n"
     ]
    },
    {
     "name": "stderr",
     "output_type": "stream",
     "text": [
      "Sending email to Claudia Rodríguez:  26%|██████████████▎                                         | 73/286 [02:23<07:01,  1.98s/it]"
     ]
    },
    {
     "name": "stdout",
     "output_type": "stream",
     "text": [
      " [✓] Email delivered!\n",
      " [✓] Succesful connection to server.\n"
     ]
    },
    {
     "name": "stderr",
     "output_type": "stream",
     "text": [
      "Sending email to Constanza Barraza:  26%|██████████████▍                                         | 74/286 [02:25<06:55,  1.96s/it]"
     ]
    },
    {
     "name": "stdout",
     "output_type": "stream",
     "text": [
      " [✓] Email delivered!\n",
      " [✓] Succesful connection to server.\n"
     ]
    },
    {
     "name": "stderr",
     "output_type": "stream",
     "text": [
      "Sending email to Constanza De Larderel:  26%|█████████████▋                                      | 75/286 [02:28<07:23,  2.10s/it]"
     ]
    },
    {
     "name": "stdout",
     "output_type": "stream",
     "text": [
      " [✓] Email delivered!\n",
      " [✓] Succesful connection to server.\n",
      " [×] Failure to deliver email to recipient.\n",
      " --- (421, b'4.7.0 Try again later, closing connection. (MAIL) t15-20020a4aadcf000000b0031c33fdb5d9sm1451510oon.39 - gsmtp', 'amigas.vntg@gmail.com')\n",
      " --- Trying again in 15 seconds...\n",
      " [✓] Succesful connection to server.\n",
      " [×] Failure to deliver email to recipient.\n",
      " --- (421, b'4.7.0 Try again later, closing connection. (MAIL) x14-20020a05680801ce00b002d97bda386fsm1511765oic.52 - gsmtp', 'amigas.vntg@gmail.com')\n",
      " --- Trying again in 15 seconds...\n",
      " [×] Something went wrong...\n",
      " --- Connection unexpectedly closed\n",
      " [×] Failure to deliver email to recipient.\n",
      " --- 'NoneType' object has no attribute 'send_message'\n",
      " --- Trying again in 15 seconds...\n",
      " [×] Something went wrong...\n",
      " --- Connection unexpectedly closed\n",
      " [×] Failure to deliver email to recipient.\n",
      " --- 'NoneType' object has no attribute 'send_message'\n",
      " --- Trying again in 15 seconds...\n",
      " [✓] Succesful connection to server.\n"
     ]
    },
    {
     "name": "stderr",
     "output_type": "stream",
     "text": [
      "Sending email to Constanza Florestano:  27%|█████████████▌                                     | 76/286 [03:32<1:12:57, 20.84s/it]"
     ]
    },
    {
     "name": "stdout",
     "output_type": "stream",
     "text": [
      " [✓] Email delivered!\n",
      " [✓] Succesful connection to server.\n"
     ]
    },
    {
     "name": "stderr",
     "output_type": "stream",
     "text": [
      "Sending email to Constanza Olivo:  27%|███████████████▌                                          | 77/286 [03:34<52:43, 15.14s/it]"
     ]
    },
    {
     "name": "stdout",
     "output_type": "stream",
     "text": [
      " [✓] Email delivered!\n",
      " [✓] Succesful connection to server.\n"
     ]
    },
    {
     "name": "stderr",
     "output_type": "stream",
     "text": [
      "Sending email to Constanza Suárez:  27%|███████████████▌                                         | 78/286 [03:36<38:36, 11.14s/it]"
     ]
    },
    {
     "name": "stdout",
     "output_type": "stream",
     "text": [
      " [✓] Email delivered!\n",
      " [✓] Succesful connection to server.\n"
     ]
    },
    {
     "name": "stderr",
     "output_type": "stream",
     "text": [
      "Sending email to Constanza Villalobos:  28%|██████████████▋                                      | 79/286 [03:38<28:49,  8.35s/it]"
     ]
    },
    {
     "name": "stdout",
     "output_type": "stream",
     "text": [
      " [✓] Email delivered!\n",
      " [✓] Succesful connection to server.\n"
     ]
    },
    {
     "name": "stderr",
     "output_type": "stream",
     "text": [
      "Sending email to Cristina Gaete Pavez:  28%|██████████████▊                                      | 80/286 [03:39<21:57,  6.39s/it]"
     ]
    },
    {
     "name": "stdout",
     "output_type": "stream",
     "text": [
      " [✓] Email delivered!\n",
      " [✓] Succesful connection to server.\n"
     ]
    },
    {
     "name": "stderr",
     "output_type": "stream",
     "text": [
      "Sending email to Cristina López Romero:  28%|██████████████▋                                     | 81/286 [03:41<17:13,  5.04s/it]"
     ]
    },
    {
     "name": "stdout",
     "output_type": "stream",
     "text": [
      " [✓] Email delivered!\n",
      " [✓] Succesful connection to server.\n"
     ]
    },
    {
     "name": "stderr",
     "output_type": "stream",
     "text": [
      "Sending email to Cristina Vera:  29%|█████████████████▏                                          | 82/286 [03:44<14:18,  4.21s/it]"
     ]
    },
    {
     "name": "stdout",
     "output_type": "stream",
     "text": [
      " [✓] Email delivered!\n",
      " [✓] Succesful connection to server.\n"
     ]
    },
    {
     "name": "stderr",
     "output_type": "stream",
     "text": [
      "Sending email to Daniela Anuel Tousaint:  29%|██████████████▊                                    | 83/286 [03:46<12:14,  3.62s/it]"
     ]
    },
    {
     "name": "stdout",
     "output_type": "stream",
     "text": [
      " [✓] Email delivered!\n",
      " [✓] Succesful connection to server.\n"
     ]
    },
    {
     "name": "stderr",
     "output_type": "stream",
     "text": [
      "Sending email to Daniela Eujenín Cárdenas:  29%|██████████████▍                                  | 84/286 [03:48<10:51,  3.23s/it]"
     ]
    },
    {
     "name": "stdout",
     "output_type": "stream",
     "text": [
      " [✓] Email delivered!\n",
      " [✓] Succesful connection to server.\n"
     ]
    },
    {
     "name": "stderr",
     "output_type": "stream",
     "text": [
      "Sending email to Daniela Leiva Figueroa:  30%|███████████████▏                                   | 85/286 [03:50<09:23,  2.80s/it]"
     ]
    },
    {
     "name": "stdout",
     "output_type": "stream",
     "text": [
      " [✓] Email delivered!\n",
      " [✓] Succesful connection to server.\n"
     ]
    },
    {
     "name": "stderr",
     "output_type": "stream",
     "text": [
      "Sending email to Daniela Ortiz:  30%|██████████████████                                          | 86/286 [03:52<08:22,  2.51s/it]"
     ]
    },
    {
     "name": "stdout",
     "output_type": "stream",
     "text": [
      " [✓] Email delivered!\n",
      " [✓] Succesful connection to server.\n"
     ]
    },
    {
     "name": "stderr",
     "output_type": "stream",
     "text": [
      "Sending email to Daniela Plaza:  30%|██████████████████▎                                         | 87/286 [03:54<08:06,  2.44s/it]"
     ]
    },
    {
     "name": "stdout",
     "output_type": "stream",
     "text": [
      " [✓] Email delivered!\n",
      " [✓] Succesful connection to server.\n"
     ]
    },
    {
     "name": "stderr",
     "output_type": "stream",
     "text": [
      "Sending email to Daniela Valderas Vargas:  31%|███████████████▍                                  | 88/286 [03:56<07:58,  2.42s/it]"
     ]
    },
    {
     "name": "stdout",
     "output_type": "stream",
     "text": [
      " [✓] Email delivered!\n",
      " [✓] Succesful connection to server.\n"
     ]
    },
    {
     "name": "stderr",
     "output_type": "stream",
     "text": [
      "Sending email to Daniela Velez:  31%|██████████████████▋                                         | 89/286 [03:58<07:22,  2.25s/it]"
     ]
    },
    {
     "name": "stdout",
     "output_type": "stream",
     "text": [
      " [✓] Email delivered!\n",
      " [✓] Succesful connection to server.\n"
     ]
    },
    {
     "name": "stderr",
     "output_type": "stream",
     "text": [
      "Sending email to Daniela Zúñiga Villagran:  31%|███████████████▍                                 | 90/286 [04:00<06:58,  2.14s/it]"
     ]
    },
    {
     "name": "stdout",
     "output_type": "stream",
     "text": [
      " [✓] Email delivered!\n",
      " [✓] Succesful connection to server.\n"
     ]
    },
    {
     "name": "stderr",
     "output_type": "stream",
     "text": [
      "Sending email to Daysi Huerta:  32%|███████████████████▍                                         | 91/286 [04:02<06:41,  2.06s/it]"
     ]
    },
    {
     "name": "stdout",
     "output_type": "stream",
     "text": [
      " [✓] Email delivered!\n",
      " [✓] Succesful connection to server.\n"
     ]
    },
    {
     "name": "stderr",
     "output_type": "stream",
     "text": [
      "Sending email to Diana Claro:  32%|███████████████████▉                                          | 92/286 [04:04<07:00,  2.17s/it]"
     ]
    },
    {
     "name": "stdout",
     "output_type": "stream",
     "text": [
      " [✓] Email delivered!\n",
      " [✓] Succesful connection to server.\n"
     ]
    },
    {
     "name": "stderr",
     "output_type": "stream",
     "text": [
      "Sending email to Dino:  33%|██████████████████████▍                                              | 93/286 [04:06<06:37,  2.06s/it]"
     ]
    },
    {
     "name": "stdout",
     "output_type": "stream",
     "text": [
      " [✓] Email delivered!\n",
      " [✓] Succesful connection to server.\n"
     ]
    },
    {
     "name": "stderr",
     "output_type": "stream",
     "text": [
      "Sending email to Dominique Dufflocq:  33%|██████████████████                                     | 94/286 [04:08<06:21,  1.98s/it]"
     ]
    },
    {
     "name": "stdout",
     "output_type": "stream",
     "text": [
      " [✓] Email delivered!\n",
      " [✓] Succesful connection to server.\n"
     ]
    },
    {
     "name": "stderr",
     "output_type": "stream",
     "text": [
      "Sending email to Dominique Dufflocq :  33%|█████████████████▉                                    | 95/286 [04:10<06:16,  1.97s/it]"
     ]
    },
    {
     "name": "stdout",
     "output_type": "stream",
     "text": [
      " [✓] Email delivered!\n",
      " [✓] Succesful connection to server.\n"
     ]
    },
    {
     "name": "stderr",
     "output_type": "stream",
     "text": [
      "Sending email to Domynike Galarce González:  34%|████████████████                                | 96/286 [04:12<06:28,  2.05s/it]"
     ]
    },
    {
     "name": "stdout",
     "output_type": "stream",
     "text": [
      " [✓] Email delivered!\n",
      " [✓] Succesful connection to server.\n"
     ]
    },
    {
     "name": "stderr",
     "output_type": "stream",
     "text": [
      "Sending email to Débora Lecaros:  34%|████████████████████                                       | 97/286 [04:15<07:00,  2.22s/it]"
     ]
    },
    {
     "name": "stdout",
     "output_type": "stream",
     "text": [
      " [✓] Email delivered!\n",
      " [✓] Succesful connection to server.\n"
     ]
    },
    {
     "name": "stderr",
     "output_type": "stream",
     "text": [
      "Sending email to E_myryam:  34%|██████████████████████▎                                          | 98/286 [04:17<06:59,  2.23s/it]"
     ]
    },
    {
     "name": "stdout",
     "output_type": "stream",
     "text": [
      " [✓] Email delivered!\n",
      " [✓] Succesful connection to server.\n"
     ]
    },
    {
     "name": "stderr",
     "output_type": "stream",
     "text": [
      "Sending email to Elena Zapata:  35%|█████████████████████                                        | 99/286 [04:19<07:04,  2.27s/it]"
     ]
    },
    {
     "name": "stdout",
     "output_type": "stream",
     "text": [
      " [✓] Email delivered!\n",
      " [✓] Succesful connection to server.\n"
     ]
    },
    {
     "name": "stderr",
     "output_type": "stream",
     "text": [
      "Sending email to Eliana Sánchez:  35%|████████████████████▎                                     | 100/286 [04:21<06:35,  2.12s/it]"
     ]
    },
    {
     "name": "stdout",
     "output_type": "stream",
     "text": [
      " [✓] Email delivered!\n",
      " [✓] Succesful connection to server.\n"
     ]
    },
    {
     "name": "stderr",
     "output_type": "stream",
     "text": [
      "Sending email to Elisabet Aylwin Pincheira:  35%|████████████████▌                              | 101/286 [04:23<06:15,  2.03s/it]"
     ]
    },
    {
     "name": "stdout",
     "output_type": "stream",
     "text": [
      " [✓] Email delivered!\n",
      " [✓] Succesful connection to server.\n"
     ]
    },
    {
     "name": "stderr",
     "output_type": "stream",
     "text": [
      "Sending email to Elizabeth Araneda Bórquez:  36%|████████████████▊                              | 102/286 [04:25<06:05,  1.99s/it]"
     ]
    },
    {
     "name": "stdout",
     "output_type": "stream",
     "text": [
      " [✓] Email delivered!\n",
      " [✓] Succesful connection to server.\n"
     ]
    },
    {
     "name": "stderr",
     "output_type": "stream",
     "text": [
      "Sending email to Emma Marín:  36%|██████████████████████▎                                       | 103/286 [04:27<06:07,  2.01s/it]"
     ]
    },
    {
     "name": "stdout",
     "output_type": "stream",
     "text": [
      " [✓] Email delivered!\n",
      " [✓] Succesful connection to server.\n"
     ]
    },
    {
     "name": "stderr",
     "output_type": "stream",
     "text": [
      "Sending email to Esperanza Oyarzún:  36%|████████████████████                                   | 104/286 [04:29<05:56,  1.96s/it]"
     ]
    },
    {
     "name": "stdout",
     "output_type": "stream",
     "text": [
      " [✓] Email delivered!\n",
      " [✓] Succesful connection to server.\n"
     ]
    },
    {
     "name": "stderr",
     "output_type": "stream",
     "text": [
      "Sending email to Estephanie Muñoz:  37%|████████████████████▌                                   | 105/286 [04:31<05:53,  1.95s/it]"
     ]
    },
    {
     "name": "stdout",
     "output_type": "stream",
     "text": [
      " [✓] Email delivered!\n",
      " [✓] Succesful connection to server.\n"
     ]
    },
    {
     "name": "stderr",
     "output_type": "stream",
     "text": [
      "Sending email to Fabiola Gálvez:  37%|█████████████████████▍                                    | 106/286 [04:33<05:48,  1.94s/it]"
     ]
    },
    {
     "name": "stdout",
     "output_type": "stream",
     "text": [
      " [✓] Email delivered!\n",
      " [✓] Succesful connection to server.\n"
     ]
    },
    {
     "name": "stderr",
     "output_type": "stream",
     "text": [
      "Sending email to Flanxd:  37%|████████████████████████▋                                         | 107/286 [04:35<05:43,  1.92s/it]"
     ]
    },
    {
     "name": "stdout",
     "output_type": "stream",
     "text": [
      " [✓] Email delivered!\n",
      " [✓] Succesful connection to server.\n"
     ]
    },
    {
     "name": "stderr",
     "output_type": "stream",
     "text": [
      "Sending email to Florencia Carrasco:  38%|████████████████████▍                                 | 108/286 [04:36<05:37,  1.90s/it]"
     ]
    },
    {
     "name": "stdout",
     "output_type": "stream",
     "text": [
      " [✓] Email delivered!\n",
      " [✓] Succesful connection to server.\n"
     ]
    },
    {
     "name": "stderr",
     "output_type": "stream",
     "text": [
      "Sending email to Florencia Macchi:  38%|█████████████████████▎                                  | 109/286 [04:38<05:35,  1.90s/it]"
     ]
    },
    {
     "name": "stdout",
     "output_type": "stream",
     "text": [
      " [✓] Email delivered!\n",
      " [✓] Succesful connection to server.\n"
     ]
    },
    {
     "name": "stderr",
     "output_type": "stream",
     "text": [
      "Sending email to Florencia Moyano:  38%|█████████████████████▌                                  | 110/286 [04:40<05:30,  1.88s/it]"
     ]
    },
    {
     "name": "stdout",
     "output_type": "stream",
     "text": [
      " [✓] Email delivered!\n",
      " [✓] Succesful connection to server.\n"
     ]
    },
    {
     "name": "stderr",
     "output_type": "stream",
     "text": [
      "Sending email to Florencia Pinto Troncoso:  39%|██████████████████▋                             | 111/286 [04:42<05:29,  1.88s/it]"
     ]
    },
    {
     "name": "stdout",
     "output_type": "stream",
     "text": [
      " [✓] Email delivered!\n",
      " [✓] Succesful connection to server.\n"
     ]
    },
    {
     "name": "stderr",
     "output_type": "stream",
     "text": [
      "Sending email to Florencia astaburuaga :  39%|███████████████████▌                              | 112/286 [04:44<05:28,  1.89s/it]"
     ]
    },
    {
     "name": "stdout",
     "output_type": "stream",
     "text": [
      " [✓] Email delivered!\n",
      " [✓] Succesful connection to server.\n"
     ]
    },
    {
     "name": "stderr",
     "output_type": "stream",
     "text": [
      "Sending email to Francesca Alfaro Olavarría:  40%|██████████████████▏                           | 113/286 [04:46<05:45,  2.00s/it]"
     ]
    },
    {
     "name": "stdout",
     "output_type": "stream",
     "text": [
      " [✓] Email delivered!\n",
      " [✓] Succesful connection to server.\n"
     ]
    },
    {
     "name": "stderr",
     "output_type": "stream",
     "text": [
      "Sending email to Francia Varas:  40%|███████████████████████▌                                   | 114/286 [04:48<05:37,  1.96s/it]"
     ]
    },
    {
     "name": "stdout",
     "output_type": "stream",
     "text": [
      " [✓] Email delivered!\n",
      " [✓] Succesful connection to server.\n"
     ]
    },
    {
     "name": "stderr",
     "output_type": "stream",
     "text": [
      "Sending email to Francis Navarro Canales:  40%|███████████████████▋                             | 115/286 [04:50<05:27,  1.91s/it]"
     ]
    },
    {
     "name": "stdout",
     "output_type": "stream",
     "text": [
      " [✓] Email delivered!\n",
      " [✓] Succesful connection to server.\n"
     ]
    },
    {
     "name": "stderr",
     "output_type": "stream",
     "text": [
      "Sending email to Francisca Bulnes:  41%|██████████████████████▋                                 | 116/286 [04:52<05:19,  1.88s/it]"
     ]
    },
    {
     "name": "stdout",
     "output_type": "stream",
     "text": [
      " [✓] Email delivered!\n",
      " [✓] Succesful connection to server.\n"
     ]
    },
    {
     "name": "stderr",
     "output_type": "stream",
     "text": [
      "Sending email to Francisca Flores:  41%|██████████████████████▉                                 | 117/286 [04:53<05:11,  1.84s/it]"
     ]
    },
    {
     "name": "stdout",
     "output_type": "stream",
     "text": [
      " [✓] Email delivered!\n",
      " [✓] Succesful connection to server.\n"
     ]
    },
    {
     "name": "stderr",
     "output_type": "stream",
     "text": [
      "Sending email to Francisca Mateluna:  41%|██████████████████████▎                               | 118/286 [04:55<05:14,  1.87s/it]"
     ]
    },
    {
     "name": "stdout",
     "output_type": "stream",
     "text": [
      " [✓] Email delivered!\n",
      " [✓] Succesful connection to server.\n"
     ]
    },
    {
     "name": "stderr",
     "output_type": "stream",
     "text": [
      "Sending email to Francisca Millacura Bravo:  42%|███████████████████▌                           | 119/286 [04:58<05:35,  2.01s/it]"
     ]
    },
    {
     "name": "stdout",
     "output_type": "stream",
     "text": [
      " [✓] Email delivered!\n",
      " [✓] Succesful connection to server.\n"
     ]
    },
    {
     "name": "stderr",
     "output_type": "stream",
     "text": [
      "Sending email to Francisca Rojas Pizarro:  42%|████████████████████▌                            | 120/286 [05:00<05:28,  1.98s/it]"
     ]
    },
    {
     "name": "stdout",
     "output_type": "stream",
     "text": [
      " [✓] Email delivered!\n",
      " [✓] Succesful connection to server.\n"
     ]
    },
    {
     "name": "stderr",
     "output_type": "stream",
     "text": [
      "Sending email to Gabriela Lobos:  42%|████████████████████████▌                                 | 121/286 [05:02<05:49,  2.12s/it]"
     ]
    },
    {
     "name": "stdout",
     "output_type": "stream",
     "text": [
      " [✓] Email delivered!\n",
      " [✓] Succesful connection to server.\n"
     ]
    },
    {
     "name": "stderr",
     "output_type": "stream",
     "text": [
      "Sending email to Gabriela Piña:  43%|█████████████████████████▏                                 | 122/286 [05:04<05:36,  2.05s/it]"
     ]
    },
    {
     "name": "stdout",
     "output_type": "stream",
     "text": [
      " [✓] Email delivered!\n",
      " [✓] Succesful connection to server.\n"
     ]
    },
    {
     "name": "stderr",
     "output_type": "stream",
     "text": [
      "Sending email to Gabriela Soria:  43%|████████████████████████▉                                 | 123/286 [05:07<06:01,  2.22s/it]"
     ]
    },
    {
     "name": "stdout",
     "output_type": "stream",
     "text": [
      " [✓] Email delivered!\n",
      " [✓] Succesful connection to server.\n"
     ]
    },
    {
     "name": "stderr",
     "output_type": "stream",
     "text": [
      "Sending email to Geraldine Morillo:  43%|███████████████████████▊                               | 124/286 [05:08<05:43,  2.12s/it]"
     ]
    },
    {
     "name": "stdout",
     "output_type": "stream",
     "text": [
      " [✓] Email delivered!\n",
      " [✓] Succesful connection to server.\n"
     ]
    },
    {
     "name": "stderr",
     "output_type": "stream",
     "text": [
      "Sending email to Gianinnaferrari:  44%|████████████████████████▉                                | 125/286 [05:10<05:28,  2.04s/it]"
     ]
    },
    {
     "name": "stdout",
     "output_type": "stream",
     "text": [
      " [✓] Email delivered!\n",
      " [✓] Succesful connection to server.\n"
     ]
    },
    {
     "name": "stderr",
     "output_type": "stream",
     "text": [
      "Sending email to Gina Miranda:  44%|██████████████████████████▍                                 | 126/286 [05:12<05:19,  1.99s/it]"
     ]
    },
    {
     "name": "stdout",
     "output_type": "stream",
     "text": [
      " [✓] Email delivered!\n",
      " [✓] Succesful connection to server.\n"
     ]
    },
    {
     "name": "stderr",
     "output_type": "stream",
     "text": [
      "Sending email to Huertaencasa.cl:  44%|█████████████████████████▎                               | 127/286 [05:14<05:05,  1.92s/it]"
     ]
    },
    {
     "name": "stdout",
     "output_type": "stream",
     "text": [
      " [✓] Email delivered!\n",
      " [✓] Succesful connection to server.\n"
     ]
    },
    {
     "name": "stderr",
     "output_type": "stream",
     "text": [
      "Sending email to Ingrid Silva Agüero:  45%|███████████████████████▋                             | 128/286 [05:16<05:02,  1.91s/it]"
     ]
    },
    {
     "name": "stdout",
     "output_type": "stream",
     "text": [
      " [✓] Email delivered!\n",
      " [✓] Succesful connection to server.\n"
     ]
    },
    {
     "name": "stderr",
     "output_type": "stream",
     "text": [
      "Sending email to Isabel Araos:  45%|███████████████████████████                                 | 129/286 [05:18<05:22,  2.06s/it]"
     ]
    },
    {
     "name": "stdout",
     "output_type": "stream",
     "text": [
      " [✓] Email delivered!\n",
      " [✓] Succesful connection to server.\n"
     ]
    },
    {
     "name": "stderr",
     "output_type": "stream",
     "text": [
      "Sending email to Isabel Ross:  45%|███████████████████████████▋                                 | 130/286 [05:20<05:08,  1.98s/it]"
     ]
    },
    {
     "name": "stdout",
     "output_type": "stream",
     "text": [
      " [✓] Email delivered!\n",
      " [✓] Succesful connection to server.\n"
     ]
    },
    {
     "name": "stderr",
     "output_type": "stream",
     "text": [
      "Sending email to Isabel Rubilar:  46%|██████████████████████████▌                               | 131/286 [05:22<05:00,  1.94s/it]"
     ]
    },
    {
     "name": "stdout",
     "output_type": "stream",
     "text": [
      " [✓] Email delivered!\n",
      " [✓] Succesful connection to server.\n"
     ]
    },
    {
     "name": "stderr",
     "output_type": "stream",
     "text": [
      "Sending email to Isadora Schmidt:  46%|██████████████████████████▎                              | 132/286 [05:24<04:51,  1.89s/it]"
     ]
    },
    {
     "name": "stdout",
     "output_type": "stream",
     "text": [
      " [✓] Email delivered!\n",
      " [✓] Succesful connection to server.\n"
     ]
    },
    {
     "name": "stderr",
     "output_type": "stream",
     "text": [
      "Sending email to Ivana Bachmann:  47%|██████████████████████████▉                               | 133/286 [05:26<04:48,  1.88s/it]"
     ]
    },
    {
     "name": "stdout",
     "output_type": "stream",
     "text": [
      " [✓] Email delivered!\n",
      " [✓] Succesful connection to server.\n"
     ]
    },
    {
     "name": "stderr",
     "output_type": "stream",
     "text": [
      "Sending email to Jael Parra Medina:  47%|█████████████████████████▊                             | 134/286 [05:28<04:54,  1.94s/it]"
     ]
    },
    {
     "name": "stdout",
     "output_type": "stream",
     "text": [
      " [✓] Email delivered!\n",
      " [✓] Succesful connection to server.\n"
     ]
    },
    {
     "name": "stderr",
     "output_type": "stream",
     "text": [
      "Sending email to Javiera Avilés Torres:  47%|████████████████████████                           | 135/286 [05:30<05:20,  2.12s/it]"
     ]
    },
    {
     "name": "stdout",
     "output_type": "stream",
     "text": [
      " [✓] Email delivered!\n",
      " [✓] Succesful connection to server.\n"
     ]
    },
    {
     "name": "stderr",
     "output_type": "stream",
     "text": [
      "Sending email to Javiera Badilla:  48%|███████████████████████████                              | 136/286 [05:32<05:27,  2.18s/it]"
     ]
    },
    {
     "name": "stdout",
     "output_type": "stream",
     "text": [
      " [✓] Email delivered!\n",
      " [✓] Succesful connection to server.\n"
     ]
    },
    {
     "name": "stderr",
     "output_type": "stream",
     "text": [
      "Sending email to Javiera Godoy:  48%|████████████████████████████▎                              | 137/286 [05:34<05:08,  2.07s/it]"
     ]
    },
    {
     "name": "stdout",
     "output_type": "stream",
     "text": [
      " [✓] Email delivered!\n",
      " [✓] Succesful connection to server.\n"
     ]
    },
    {
     "name": "stderr",
     "output_type": "stream",
     "text": [
      "Sending email to Javiera Gálvez Riveros:  48%|████████████████████████▏                         | 138/286 [05:36<04:55,  2.00s/it]"
     ]
    },
    {
     "name": "stdout",
     "output_type": "stream",
     "text": [
      " [✓] Email delivered!\n",
      " [✓] Succesful connection to server.\n"
     ]
    },
    {
     "name": "stderr",
     "output_type": "stream",
     "text": [
      "Sending email to Javiera Vásquez:  49%|███████████████████████████▋                             | 139/286 [05:38<04:49,  1.97s/it]"
     ]
    },
    {
     "name": "stdout",
     "output_type": "stream",
     "text": [
      " [✓] Email delivered!\n",
      " [✓] Succesful connection to server.\n"
     ]
    },
    {
     "name": "stderr",
     "output_type": "stream",
     "text": [
      "Sending email to Jeannette Pendola Arriagada:  49%|██████████████████████                       | 140/286 [05:40<04:43,  1.94s/it]"
     ]
    },
    {
     "name": "stdout",
     "output_type": "stream",
     "text": [
      " [✓] Email delivered!\n",
      " [✓] Succesful connection to server.\n"
     ]
    },
    {
     "name": "stderr",
     "output_type": "stream",
     "text": [
      "Sending email to Jenny Carmona:  49%|█████████████████████████████                              | 141/286 [05:42<05:00,  2.07s/it]"
     ]
    },
    {
     "name": "stdout",
     "output_type": "stream",
     "text": [
      " [✓] Email delivered!\n",
      " [✓] Succesful connection to server.\n"
     ]
    },
    {
     "name": "stderr",
     "output_type": "stream",
     "text": [
      "Sending email to Jenny Irmgard Eltit Gaona :  50%|██████████████████████▊                       | 142/286 [05:44<04:51,  2.02s/it]"
     ]
    },
    {
     "name": "stdout",
     "output_type": "stream",
     "text": [
      " [✓] Email delivered!\n",
      " [✓] Succesful connection to server.\n"
     ]
    },
    {
     "name": "stderr",
     "output_type": "stream",
     "text": [
      "Sending email to Jessica Candia:  50%|█████████████████████████████                             | 143/286 [05:46<04:41,  1.97s/it]"
     ]
    },
    {
     "name": "stdout",
     "output_type": "stream",
     "text": [
      " [✓] Email delivered!\n",
      " [✓] Succesful connection to server.\n"
     ]
    },
    {
     "name": "stderr",
     "output_type": "stream",
     "text": [
      "Sending email to Jorge Salgado Prieto:  50%|██████████████████████████▏                         | 144/286 [05:48<04:57,  2.10s/it]"
     ]
    },
    {
     "name": "stdout",
     "output_type": "stream",
     "text": [
      " [✓] Email delivered!\n",
      " [✓] Succesful connection to server.\n"
     ]
    },
    {
     "name": "stderr",
     "output_type": "stream",
     "text": [
      "Sending email to Juana Monsalve Castillo:  51%|████████████████████████▊                        | 145/286 [05:50<04:45,  2.03s/it]"
     ]
    },
    {
     "name": "stdout",
     "output_type": "stream",
     "text": [
      " [✓] Email delivered!\n",
      " [✓] Succesful connection to server.\n"
     ]
    },
    {
     "name": "stderr",
     "output_type": "stream",
     "text": [
      "Sending email to Kamila Urbina:  51%|██████████████████████████████                             | 146/286 [05:52<04:34,  1.96s/it]"
     ]
    },
    {
     "name": "stdout",
     "output_type": "stream",
     "text": [
      " [✓] Email delivered!\n",
      " [✓] Succesful connection to server.\n"
     ]
    },
    {
     "name": "stderr",
     "output_type": "stream",
     "text": [
      "Sending email to Karina Bugueño Campos:  51%|██████████████████████████▏                        | 147/286 [05:54<04:45,  2.05s/it]"
     ]
    },
    {
     "name": "stdout",
     "output_type": "stream",
     "text": [
      " [✓] Email delivered!\n",
      " [✓] Succesful connection to server.\n"
     ]
    },
    {
     "name": "stderr",
     "output_type": "stream",
     "text": [
      "Sending email to Karina Torres:  52%|██████████████████████████████▌                            | 148/286 [05:56<04:32,  1.97s/it]"
     ]
    },
    {
     "name": "stdout",
     "output_type": "stream",
     "text": [
      " [✓] Email delivered!\n",
      " [✓] Succesful connection to server.\n"
     ]
    },
    {
     "name": "stderr",
     "output_type": "stream",
     "text": [
      "Sending email to Karina Yevenes:  52%|██████████████████████████████▏                           | 149/286 [05:58<04:42,  2.06s/it]"
     ]
    },
    {
     "name": "stdout",
     "output_type": "stream",
     "text": [
      " [✓] Email delivered!\n",
      " [✓] Succesful connection to server.\n"
     ]
    },
    {
     "name": "stderr",
     "output_type": "stream",
     "text": [
      "Sending email to Karla Ramírez:  52%|██████████████████████████████▉                            | 150/286 [06:00<04:30,  1.99s/it]"
     ]
    },
    {
     "name": "stdout",
     "output_type": "stream",
     "text": [
      " [✓] Email delivered!\n",
      " [✓] Succesful connection to server.\n"
     ]
    },
    {
     "name": "stderr",
     "output_type": "stream",
     "text": [
      "Sending email to Katherinne Añasco Avila:  53%|█████████████████████████▊                       | 151/286 [06:02<04:23,  1.95s/it]"
     ]
    },
    {
     "name": "stdout",
     "output_type": "stream",
     "text": [
      " [✓] Email delivered!\n",
      " [✓] Succesful connection to server.\n"
     ]
    },
    {
     "name": "stderr",
     "output_type": "stream",
     "text": [
      "Sending email to Kattia Fonseca Pacheco:  53%|██████████████████████████▌                       | 152/286 [06:04<04:18,  1.93s/it]"
     ]
    },
    {
     "name": "stdout",
     "output_type": "stream",
     "text": [
      " [✓] Email delivered!\n",
      " [✓] Succesful connection to server.\n"
     ]
    },
    {
     "name": "stderr",
     "output_type": "stream",
     "text": [
      "Sending email to Krito Segovia:  53%|███████████████████████████████▌                           | 153/286 [06:06<04:30,  2.03s/it]"
     ]
    },
    {
     "name": "stdout",
     "output_type": "stream",
     "text": [
      " [✓] Email delivered!\n",
      " [✓] Succesful connection to server.\n"
     ]
    },
    {
     "name": "stderr",
     "output_type": "stream",
     "text": [
      "Sending email to Küyen Mansilla:  54%|███████████████████████████████▏                          | 154/286 [06:09<04:43,  2.15s/it]"
     ]
    },
    {
     "name": "stdout",
     "output_type": "stream",
     "text": [
      " [✓] Email delivered!\n",
      " [✓] Succesful connection to server.\n"
     ]
    },
    {
     "name": "stderr",
     "output_type": "stream",
     "text": [
      "Sending email to Larissa Rojas Marilao:  54%|███████████████████████████▋                       | 155/286 [06:11<04:31,  2.07s/it]"
     ]
    },
    {
     "name": "stdout",
     "output_type": "stream",
     "text": [
      " [✓] Email delivered!\n",
      " [✓] Succesful connection to server.\n"
     ]
    },
    {
     "name": "stderr",
     "output_type": "stream",
     "text": [
      "Sending email to Laura Sepúlveda:  55%|███████████████████████████████                          | 156/286 [06:13<04:37,  2.13s/it]"
     ]
    },
    {
     "name": "stdout",
     "output_type": "stream",
     "text": [
      " [✓] Email delivered!\n",
      " [✓] Succesful connection to server.\n"
     ]
    },
    {
     "name": "stderr",
     "output_type": "stream",
     "text": [
      "Sending email to Lorena Gonzalez:  55%|███████████████████████████████▎                         | 157/286 [06:15<04:24,  2.05s/it]"
     ]
    },
    {
     "name": "stdout",
     "output_type": "stream",
     "text": [
      " [✓] Email delivered!\n",
      " [✓] Succesful connection to server.\n"
     ]
    },
    {
     "name": "stderr",
     "output_type": "stream",
     "text": [
      "Sending email to Lorena Ortiz:  55%|█████████████████████████████████▏                          | 158/286 [06:17<04:16,  2.01s/it]"
     ]
    },
    {
     "name": "stdout",
     "output_type": "stream",
     "text": [
      " [✓] Email delivered!\n",
      " [✓] Succesful connection to server.\n"
     ]
    },
    {
     "name": "stderr",
     "output_type": "stream",
     "text": [
      "Sending email to Lorena Vargas:  56%|████████████████████████████████▊                          | 159/286 [06:18<04:09,  1.97s/it]"
     ]
    },
    {
     "name": "stdout",
     "output_type": "stream",
     "text": [
      " [✓] Email delivered!\n",
      " [✓] Succesful connection to server.\n"
     ]
    },
    {
     "name": "stderr",
     "output_type": "stream",
     "text": [
      "Sending email to Loreto Marttell:  56%|███████████████████████████████▉                         | 160/286 [06:20<04:03,  1.93s/it]"
     ]
    },
    {
     "name": "stdout",
     "output_type": "stream",
     "text": [
      " [✓] Email delivered!\n",
      " [✓] Succesful connection to server.\n"
     ]
    },
    {
     "name": "stderr",
     "output_type": "stream",
     "text": [
      "Sending email to Loretta Ugalde:  56%|████████████████████████████████▋                         | 161/286 [06:23<04:18,  2.07s/it]"
     ]
    },
    {
     "name": "stdout",
     "output_type": "stream",
     "text": [
      " [✓] Email delivered!\n",
      " [✓] Succesful connection to server.\n"
     ]
    },
    {
     "name": "stderr",
     "output_type": "stream",
     "text": [
      "Sending email to Luana Retamal:  57%|█████████████████████████████████▍                         | 162/286 [06:25<04:24,  2.13s/it]"
     ]
    },
    {
     "name": "stdout",
     "output_type": "stream",
     "text": [
      " [✓] Email delivered!\n",
      " [✓] Succesful connection to server.\n"
     ]
    },
    {
     "name": "stderr",
     "output_type": "stream",
     "text": [
      "Sending email to Macarena Jofre:  57%|█████████████████████████████████                         | 163/286 [06:27<04:12,  2.05s/it]"
     ]
    },
    {
     "name": "stdout",
     "output_type": "stream",
     "text": [
      " [✓] Email delivered!\n",
      " [✓] Succesful connection to server.\n"
     ]
    },
    {
     "name": "stderr",
     "output_type": "stream",
     "text": [
      "Sending email to Macarena Macaya Arancibia:  57%|██████████████████████████▉                    | 164/286 [06:29<04:18,  2.12s/it]"
     ]
    },
    {
     "name": "stdout",
     "output_type": "stream",
     "text": [
      " [✓] Email delivered!\n",
      " [✓] Succesful connection to server.\n"
     ]
    },
    {
     "name": "stderr",
     "output_type": "stream",
     "text": [
      "Sending email to Macarena Torres:  58%|████████████████████████████████▉                        | 165/286 [06:31<04:26,  2.20s/it]"
     ]
    },
    {
     "name": "stdout",
     "output_type": "stream",
     "text": [
      " [✓] Email delivered!\n",
      " [✓] Succesful connection to server.\n"
     ]
    },
    {
     "name": "stderr",
     "output_type": "stream",
     "text": [
      "Sending email to Magdalena Rivas:  58%|█████████████████████████████████                        | 166/286 [06:34<04:32,  2.27s/it]"
     ]
    },
    {
     "name": "stdout",
     "output_type": "stream",
     "text": [
      " [✓] Email delivered!\n",
      " [✓] Succesful connection to server.\n"
     ]
    },
    {
     "name": "stderr",
     "output_type": "stream",
     "text": [
      "Sending email to Marcela Llancafil:  58%|████████████████████████████████                       | 167/286 [06:36<04:32,  2.29s/it]"
     ]
    },
    {
     "name": "stdout",
     "output_type": "stream",
     "text": [
      " [✓] Email delivered!\n",
      " [✓] Succesful connection to server.\n"
     ]
    },
    {
     "name": "stderr",
     "output_type": "stream",
     "text": [
      "Sending email to Marcela Pérez :  59%|██████████████████████████████████                        | 168/286 [06:39<04:29,  2.28s/it]"
     ]
    },
    {
     "name": "stdout",
     "output_type": "stream",
     "text": [
      " [✓] Email delivered!\n",
      " [✓] Succesful connection to server.\n"
     ]
    },
    {
     "name": "stderr",
     "output_type": "stream",
     "text": [
      "Sending email to Marcela Quintas:  59%|█████████████████████████████████▋                       | 169/286 [06:41<04:29,  2.30s/it]"
     ]
    },
    {
     "name": "stdout",
     "output_type": "stream",
     "text": [
      " [✓] Email delivered!\n",
      " [✓] Succesful connection to server.\n"
     ]
    },
    {
     "name": "stderr",
     "output_type": "stream",
     "text": [
      "Sending email to Marcela alvarez galleguillos:  59%|██████████████████████████▏                 | 170/286 [06:43<04:08,  2.14s/it]"
     ]
    },
    {
     "name": "stdout",
     "output_type": "stream",
     "text": [
      " [✓] Email delivered!\n",
      " [✓] Succesful connection to server.\n"
     ]
    },
    {
     "name": "stderr",
     "output_type": "stream",
     "text": [
      "Sending email to Margarita Ulloa Quezada:  60%|█████████████████████████████▎                   | 171/286 [06:44<03:54,  2.04s/it]"
     ]
    },
    {
     "name": "stdout",
     "output_type": "stream",
     "text": [
      " [✓] Email delivered!\n",
      " [✓] Succesful connection to server.\n"
     ]
    },
    {
     "name": "stderr",
     "output_type": "stream",
     "text": [
      "Sending email to Maria Avila:  60%|████████████████████████████████████▋                        | 172/286 [06:47<03:59,  2.10s/it]"
     ]
    },
    {
     "name": "stdout",
     "output_type": "stream",
     "text": [
      " [✓] Email delivered!\n",
      " [✓] Succesful connection to server.\n"
     ]
    },
    {
     "name": "stderr",
     "output_type": "stream",
     "text": [
      "Sending email to Maria Constanza Toledo:  60%|██████████████████████████████▏                   | 173/286 [06:49<03:48,  2.02s/it]"
     ]
    },
    {
     "name": "stdout",
     "output_type": "stream",
     "text": [
      " [✓] Email delivered!\n",
      " [✓] Succesful connection to server.\n"
     ]
    },
    {
     "name": "stderr",
     "output_type": "stream",
     "text": [
      "Sending email to Maria Eugenia Ruiz:  61%|████████████████████████████████▊                     | 174/286 [06:50<03:40,  1.97s/it]"
     ]
    },
    {
     "name": "stdout",
     "output_type": "stream",
     "text": [
      " [✓] Email delivered!\n",
      " [✓] Succesful connection to server.\n"
     ]
    },
    {
     "name": "stderr",
     "output_type": "stream",
     "text": [
      "Sending email to Maria Fernanda Collao Brantt:  61%|██████████████████████████▉                 | 175/286 [06:52<03:33,  1.92s/it]"
     ]
    },
    {
     "name": "stdout",
     "output_type": "stream",
     "text": [
      " [✓] Email delivered!\n",
      " [✓] Succesful connection to server.\n"
     ]
    },
    {
     "name": "stderr",
     "output_type": "stream",
     "text": [
      "Sending email to Maria Ignacia Soto:  62%|█████████████████████████████████▏                    | 176/286 [06:54<03:28,  1.90s/it]"
     ]
    },
    {
     "name": "stdout",
     "output_type": "stream",
     "text": [
      " [✓] Email delivered!\n",
      " [✓] Succesful connection to server.\n"
     ]
    },
    {
     "name": "stderr",
     "output_type": "stream",
     "text": [
      "Sending email to Maria Inés Henseleit:  62%|████████████████████████████████▏                   | 177/286 [06:56<03:39,  2.02s/it]"
     ]
    },
    {
     "name": "stdout",
     "output_type": "stream",
     "text": [
      " [✓] Email delivered!\n",
      " [✓] Succesful connection to server.\n"
     ]
    },
    {
     "name": "stderr",
     "output_type": "stream",
     "text": [
      "Sending email to Maria Loreto Aravena Riveros:  62%|███████████████████████████▍                | 178/286 [06:59<03:48,  2.11s/it]"
     ]
    },
    {
     "name": "stdout",
     "output_type": "stream",
     "text": [
      " [✓] Email delivered!\n",
      " [✓] Succesful connection to server.\n"
     ]
    },
    {
     "name": "stderr",
     "output_type": "stream",
     "text": [
      "Sending email to Maria Paz  Merino Pga:  63%|███████████████████████████████▉                   | 179/286 [07:00<03:36,  2.02s/it]"
     ]
    },
    {
     "name": "stdout",
     "output_type": "stream",
     "text": [
      " [✓] Email delivered!\n",
      " [✓] Succesful connection to server.\n"
     ]
    },
    {
     "name": "stderr",
     "output_type": "stream",
     "text": [
      "Sending email to Maria Torres:  63%|█████████████████████████████████████▊                      | 180/286 [07:02<03:28,  1.97s/it]"
     ]
    },
    {
     "name": "stdout",
     "output_type": "stream",
     "text": [
      " [✓] Email delivered!\n",
      " [✓] Succesful connection to server.\n"
     ]
    },
    {
     "name": "stderr",
     "output_type": "stream",
     "text": [
      "Sending email to Mariela Gutierrez Ruiz:  63%|███████████████████████████████▋                  | 181/286 [07:04<03:22,  1.93s/it]"
     ]
    },
    {
     "name": "stdout",
     "output_type": "stream",
     "text": [
      " [✓] Email delivered!\n",
      " [✓] Succesful connection to server.\n"
     ]
    },
    {
     "name": "stderr",
     "output_type": "stream",
     "text": [
      "Sending email to Marisol Carvallo:  64%|███████████████████████████████████▋                    | 182/286 [07:06<03:17,  1.90s/it]"
     ]
    },
    {
     "name": "stdout",
     "output_type": "stream",
     "text": [
      " [✓] Email delivered!\n",
      " [✓] Succesful connection to server.\n"
     ]
    },
    {
     "name": "stderr",
     "output_type": "stream",
     "text": [
      "Sending email to Marlen Urrutia:  64%|█████████████████████████████████████                     | 183/286 [07:08<03:20,  1.94s/it]"
     ]
    },
    {
     "name": "stdout",
     "output_type": "stream",
     "text": [
      " [✓] Email delivered!\n",
      " [✓] Succesful connection to server.\n"
     ]
    },
    {
     "name": "stderr",
     "output_type": "stream",
     "text": [
      "Sending email to María Alejandra Romero:  64%|████████████████████████████████▏                 | 184/286 [07:10<03:29,  2.05s/it]"
     ]
    },
    {
     "name": "stdout",
     "output_type": "stream",
     "text": [
      " [✓] Email delivered!\n",
      " [✓] Succesful connection to server.\n"
     ]
    },
    {
     "name": "stderr",
     "output_type": "stream",
     "text": [
      "Sending email to María Alejandra Troncoso Fuentes :  65%|█████████████████████████▏             | 185/286 [07:13<03:39,  2.17s/it]"
     ]
    },
    {
     "name": "stdout",
     "output_type": "stream",
     "text": [
      " [✓] Email delivered!\n",
      " [✓] Succesful connection to server.\n"
     ]
    },
    {
     "name": "stderr",
     "output_type": "stream",
     "text": [
      "Sending email to María Ester Ortiz:  65%|███████████████████████████████████▊                   | 186/286 [07:15<03:26,  2.06s/it]"
     ]
    },
    {
     "name": "stdout",
     "output_type": "stream",
     "text": [
      " [✓] Email delivered!\n",
      " [✓] Succesful connection to server.\n"
     ]
    },
    {
     "name": "stderr",
     "output_type": "stream",
     "text": [
      "Sending email to María Fernanda Mendoza Ruiz:  65%|█████████████████████████████▍               | 187/286 [07:17<03:32,  2.14s/it]"
     ]
    },
    {
     "name": "stdout",
     "output_type": "stream",
     "text": [
      " [✓] Email delivered!\n",
      " [✓] Succesful connection to server.\n"
     ]
    },
    {
     "name": "stderr",
     "output_type": "stream",
     "text": [
      "Sending email to María Graciela Henriquez:  66%|███████████████████████████████▌                | 188/286 [07:19<03:25,  2.10s/it]"
     ]
    },
    {
     "name": "stdout",
     "output_type": "stream",
     "text": [
      " [✓] Email delivered!\n",
      " [✓] Succesful connection to server.\n"
     ]
    },
    {
     "name": "stderr",
     "output_type": "stream",
     "text": [
      "Sending email to María Jesús Pacheco Parada:  66%|██████████████████████████████▍               | 189/286 [07:21<03:15,  2.01s/it]"
     ]
    },
    {
     "name": "stdout",
     "output_type": "stream",
     "text": [
      " [✓] Email delivered!\n",
      " [✓] Succesful connection to server.\n"
     ]
    },
    {
     "name": "stderr",
     "output_type": "stream",
     "text": [
      "Sending email to María José Azócar:  66%|████████████████████████████████████▌                  | 190/286 [07:23<03:22,  2.11s/it]"
     ]
    },
    {
     "name": "stdout",
     "output_type": "stream",
     "text": [
      " [✓] Email delivered!\n",
      " [✓] Succesful connection to server.\n"
     ]
    },
    {
     "name": "stderr",
     "output_type": "stream",
     "text": [
      "Sending email to María José Croquevielle:  67%|████████████████████████████████▋                | 191/286 [07:25<03:15,  2.06s/it]"
     ]
    },
    {
     "name": "stdout",
     "output_type": "stream",
     "text": [
      " [✓] Email delivered!\n",
      " [✓] Succesful connection to server.\n"
     ]
    },
    {
     "name": "stderr",
     "output_type": "stream",
     "text": [
      "Sending email to María Lissette Martínez Pavez:  67%|████████████████████████████▊              | 192/286 [07:27<03:20,  2.13s/it]"
     ]
    },
    {
     "name": "stdout",
     "output_type": "stream",
     "text": [
      " [✓] Email delivered!\n",
      " [✓] Succesful connection to server.\n"
     ]
    },
    {
     "name": "stderr",
     "output_type": "stream",
     "text": [
      "Sending email to María Soledad Ramos:  67%|███████████████████████████████████▊                 | 193/286 [07:29<03:10,  2.05s/it]"
     ]
    },
    {
     "name": "stdout",
     "output_type": "stream",
     "text": [
      " [✓] Email delivered!\n",
      " [✓] Succesful connection to server.\n"
     ]
    },
    {
     "name": "stderr",
     "output_type": "stream",
     "text": [
      "Sending email to Michelle Tapia:  68%|███████████████████████████████████████▎                  | 194/286 [07:31<03:01,  1.97s/it]"
     ]
    },
    {
     "name": "stdout",
     "output_type": "stream",
     "text": [
      " [✓] Email delivered!\n",
      " [✓] Succesful connection to server.\n"
     ]
    },
    {
     "name": "stderr",
     "output_type": "stream",
     "text": [
      "Sending email to Millicent Otarola Fernandez:  68%|██████████████████████████████▋              | 195/286 [07:33<02:55,  1.93s/it]"
     ]
    },
    {
     "name": "stdout",
     "output_type": "stream",
     "text": [
      " [✓] Email delivered!\n",
      " [✓] Succesful connection to server.\n"
     ]
    },
    {
     "name": "stderr",
     "output_type": "stream",
     "text": [
      "Sending email to Mitzi González:  69%|███████████████████████████████████████▋                  | 196/286 [07:35<02:53,  1.92s/it]"
     ]
    },
    {
     "name": "stdout",
     "output_type": "stream",
     "text": [
      " [✓] Email delivered!\n",
      " [✓] Succesful connection to server.\n"
     ]
    },
    {
     "name": "stderr",
     "output_type": "stream",
     "text": [
      "Sending email to Monica Inostroza:  69%|██████████████████████████████████████▌                 | 197/286 [07:37<03:03,  2.06s/it]"
     ]
    },
    {
     "name": "stdout",
     "output_type": "stream",
     "text": [
      " [✓] Email delivered!\n",
      " [✓] Succesful connection to server.\n"
     ]
    },
    {
     "name": "stderr",
     "output_type": "stream",
     "text": [
      "Sending email to Naiara Susaeta:  69%|████████████████████████████████████████▏                 | 198/286 [07:39<02:55,  1.99s/it]"
     ]
    },
    {
     "name": "stdout",
     "output_type": "stream",
     "text": [
      " [✓] Email delivered!\n",
      " [✓] Succesful connection to server.\n"
     ]
    },
    {
     "name": "stderr",
     "output_type": "stream",
     "text": [
      "Sending email to Natalia Albornoz:  70%|██████████████████████████████████████▉                 | 199/286 [07:42<03:08,  2.17s/it]"
     ]
    },
    {
     "name": "stdout",
     "output_type": "stream",
     "text": [
      " [✓] Email delivered!\n",
      " [✓] Succesful connection to server.\n"
     ]
    },
    {
     "name": "stderr",
     "output_type": "stream",
     "text": [
      "Sending email to Natalia Arancibia:  70%|██████████████████████████████████████▍                | 200/286 [07:44<03:08,  2.20s/it]"
     ]
    },
    {
     "name": "stdout",
     "output_type": "stream",
     "text": [
      " [✓] Email delivered!\n",
      " [✓] Succesful connection to server.\n"
     ]
    },
    {
     "name": "stderr",
     "output_type": "stream",
     "text": [
      "Sending email to Natalia Bustamante:  70%|█████████████████████████████████████▉                | 201/286 [07:46<02:55,  2.06s/it]"
     ]
    },
    {
     "name": "stdout",
     "output_type": "stream",
     "text": [
      " [✓] Email delivered!\n",
      " [✓] Succesful connection to server.\n"
     ]
    },
    {
     "name": "stderr",
     "output_type": "stream",
     "text": [
      "Sending email to Natalia Espoz:  71%|█████████████████████████████████████████▋                 | 202/286 [07:47<02:49,  2.01s/it]"
     ]
    },
    {
     "name": "stdout",
     "output_type": "stream",
     "text": [
      " [✓] Email delivered!\n",
      " [✓] Succesful connection to server.\n"
     ]
    },
    {
     "name": "stderr",
     "output_type": "stream",
     "text": [
      "Sending email to Natalia Lucero:  71%|█████████████████████████████████████████▏                | 203/286 [07:49<02:40,  1.94s/it]"
     ]
    },
    {
     "name": "stdout",
     "output_type": "stream",
     "text": [
      " [✓] Email delivered!\n",
      " [✓] Succesful connection to server.\n"
     ]
    },
    {
     "name": "stderr",
     "output_type": "stream",
     "text": [
      "Sending email to Natalia Roa:  71%|███████████████████████████████████████████▌                 | 204/286 [07:51<02:35,  1.89s/it]"
     ]
    },
    {
     "name": "stdout",
     "output_type": "stream",
     "text": [
      " [✓] Email delivered!\n",
      " [✓] Succesful connection to server.\n"
     ]
    },
    {
     "name": "stderr",
     "output_type": "stream",
     "text": [
      "Sending email to Natalia Silva:  72%|██████████████████████████████████████████▎                | 205/286 [07:53<02:30,  1.86s/it]"
     ]
    },
    {
     "name": "stdout",
     "output_type": "stream",
     "text": [
      " [✓] Email delivered!\n",
      " [✓] Succesful connection to server.\n"
     ]
    },
    {
     "name": "stderr",
     "output_type": "stream",
     "text": [
      "Sending email to Natalia Silva Muñoz:  72%|██████████████████████████████████████▏              | 206/286 [07:55<02:32,  1.91s/it]"
     ]
    },
    {
     "name": "stdout",
     "output_type": "stream",
     "text": [
      " [✓] Email delivered!\n",
      " [✓] Succesful connection to server.\n"
     ]
    },
    {
     "name": "stderr",
     "output_type": "stream",
     "text": [
      "Sending email to Natalia Uribe:  72%|██████████████████████████████████████████▋                | 207/286 [07:57<02:28,  1.88s/it]"
     ]
    },
    {
     "name": "stdout",
     "output_type": "stream",
     "text": [
      " [✓] Email delivered!\n",
      " [✓] Succesful connection to server.\n"
     ]
    },
    {
     "name": "stderr",
     "output_type": "stream",
     "text": [
      "Sending email to Ncaballero51:  73%|███████████████████████████████████████████▋                | 208/286 [07:58<02:25,  1.86s/it]"
     ]
    },
    {
     "name": "stdout",
     "output_type": "stream",
     "text": [
      " [✓] Email delivered!\n",
      " [✓] Succesful connection to server.\n"
     ]
    },
    {
     "name": "stderr",
     "output_type": "stream",
     "text": [
      "Sending email to Nheresi:  73%|███████████████████████████████████████████████▌                 | 209/286 [08:00<02:23,  1.86s/it]"
     ]
    },
    {
     "name": "stdout",
     "output_type": "stream",
     "text": [
      " [✓] Email delivered!\n",
      " [✓] Succesful connection to server.\n"
     ]
    },
    {
     "name": "stderr",
     "output_type": "stream",
     "text": [
      "Sending email to Nicole Gamonal:  73%|██████████████████████████████████████████▌               | 210/286 [08:02<02:19,  1.84s/it]"
     ]
    },
    {
     "name": "stdout",
     "output_type": "stream",
     "text": [
      " [✓] Email delivered!\n",
      " [✓] Succesful connection to server.\n"
     ]
    },
    {
     "name": "stderr",
     "output_type": "stream",
     "text": [
      "Sending email to Nicole Palominos:  74%|█████████████████████████████████████████▎              | 211/286 [08:04<02:28,  1.98s/it]"
     ]
    },
    {
     "name": "stdout",
     "output_type": "stream",
     "text": [
      " [✓] Email delivered!\n",
      " [✓] Succesful connection to server.\n"
     ]
    },
    {
     "name": "stderr",
     "output_type": "stream",
     "text": [
      "Sending email to Nicole Salinas Romero:  74%|█████████████████████████████████████▊             | 212/286 [08:06<02:22,  1.93s/it]"
     ]
    },
    {
     "name": "stdout",
     "output_type": "stream",
     "text": [
      " [✓] Email delivered!\n",
      " [✓] Succesful connection to server.\n"
     ]
    },
    {
     "name": "stderr",
     "output_type": "stream",
     "text": [
      "Sending email to Nicole Sharkey:  74%|███████████████████████████████████████████▏              | 213/286 [08:08<02:19,  1.92s/it]"
     ]
    },
    {
     "name": "stdout",
     "output_type": "stream",
     "text": [
      " [✓] Email delivered!\n",
      " [✓] Succesful connection to server.\n"
     ]
    },
    {
     "name": "stderr",
     "output_type": "stream",
     "text": [
      "Sending email to Nicolle Benavente:  75%|█████████████████████████████████████████▏             | 214/286 [08:10<02:15,  1.88s/it]"
     ]
    },
    {
     "name": "stdout",
     "output_type": "stream",
     "text": [
      " [✓] Email delivered!\n",
      " [✓] Succesful connection to server.\n"
     ]
    },
    {
     "name": "stderr",
     "output_type": "stream",
     "text": [
      "Sending email to Nilse Ramírez:  75%|████████████████████████████████████████████▎              | 215/286 [08:12<02:12,  1.87s/it]"
     ]
    },
    {
     "name": "stdout",
     "output_type": "stream",
     "text": [
      " [✓] Email delivered!\n",
      " [✓] Succesful connection to server.\n"
     ]
    },
    {
     "name": "stderr",
     "output_type": "stream",
     "text": [
      "Sending email to Norma Berrios:  76%|████████████████████████████████████████████▌              | 216/286 [08:14<02:17,  1.97s/it]"
     ]
    },
    {
     "name": "stdout",
     "output_type": "stream",
     "text": [
      " [✓] Email delivered!\n",
      " [✓] Succesful connection to server.\n"
     ]
    },
    {
     "name": "stderr",
     "output_type": "stream",
     "text": [
      "Sending email to Náyade Vargas:  76%|████████████████████████████████████████████▊              | 217/286 [08:17<02:32,  2.22s/it]"
     ]
    },
    {
     "name": "stdout",
     "output_type": "stream",
     "text": [
      " [✓] Email delivered!\n",
      " [✓] Succesful connection to server.\n"
     ]
    },
    {
     "name": "stderr",
     "output_type": "stream",
     "text": [
      "Sending email to Octavio Aldea sabioncello:  76%|███████████████████████████████████▊           | 218/286 [08:19<02:22,  2.09s/it]"
     ]
    },
    {
     "name": "stdout",
     "output_type": "stream",
     "text": [
      " [✓] Email delivered!\n",
      " [✓] Succesful connection to server.\n"
     ]
    },
    {
     "name": "stderr",
     "output_type": "stream",
     "text": [
      "Sending email to Pamela Alarcón Toloza:  77%|███████████████████████████████████████            | 219/286 [08:20<02:14,  2.01s/it]"
     ]
    },
    {
     "name": "stdout",
     "output_type": "stream",
     "text": [
      " [✓] Email delivered!\n",
      " [✓] Succesful connection to server.\n"
     ]
    },
    {
     "name": "stderr",
     "output_type": "stream",
     "text": [
      "Sending email to Pamela Mechsner:  77%|███████████████████████████████████████████▊             | 220/286 [08:22<02:10,  1.97s/it]"
     ]
    },
    {
     "name": "stdout",
     "output_type": "stream",
     "text": [
      " [✓] Email delivered!\n",
      " [✓] Succesful connection to server.\n"
     ]
    },
    {
     "name": "stderr",
     "output_type": "stream",
     "text": [
      "Sending email to Pamela Paredes:  77%|████████████████████████████████████████████▊             | 221/286 [08:24<02:10,  2.00s/it]"
     ]
    },
    {
     "name": "stdout",
     "output_type": "stream",
     "text": [
      " [✓] Email delivered!\n",
      " [✓] Succesful connection to server.\n"
     ]
    },
    {
     "name": "stderr",
     "output_type": "stream",
     "text": [
      "Sending email to Pamela Riquelme:  78%|████████████████████████████████████████████▏            | 222/286 [08:26<02:10,  2.04s/it]"
     ]
    },
    {
     "name": "stdout",
     "output_type": "stream",
     "text": [
      " [✓] Email delivered!\n",
      " [✓] Succesful connection to server.\n"
     ]
    },
    {
     "name": "stderr",
     "output_type": "stream",
     "text": [
      "Sending email to Patricia Pérez:  78%|█████████████████████████████████████████████▏            | 223/286 [08:28<02:06,  2.01s/it]"
     ]
    },
    {
     "name": "stdout",
     "output_type": "stream",
     "text": [
      " [✓] Email delivered!\n",
      " [✓] Succesful connection to server.\n"
     ]
    },
    {
     "name": "stderr",
     "output_type": "stream",
     "text": [
      "Sending email to Patriciaandreamunoz:  78%|█████████████████████████████████████████▌           | 224/286 [08:31<02:10,  2.11s/it]"
     ]
    },
    {
     "name": "stdout",
     "output_type": "stream",
     "text": [
      " [✓] Email delivered!\n",
      " [✓] Succesful connection to server.\n"
     ]
    },
    {
     "name": "stderr",
     "output_type": "stream",
     "text": [
      "Sending email to Paula Amestica Bravo:  79%|████████████████████████████████████████▉           | 225/286 [08:33<02:05,  2.06s/it]"
     ]
    },
    {
     "name": "stdout",
     "output_type": "stream",
     "text": [
      " [✓] Email delivered!\n",
      " [✓] Succesful connection to server.\n"
     ]
    },
    {
     "name": "stderr",
     "output_type": "stream",
     "text": [
      "Sending email to Paula Aravena:  79%|██████████████████████████████████████████████▌            | 226/286 [08:34<01:59,  1.99s/it]"
     ]
    },
    {
     "name": "stdout",
     "output_type": "stream",
     "text": [
      " [✓] Email delivered!\n",
      " [✓] Succesful connection to server.\n"
     ]
    },
    {
     "name": "stderr",
     "output_type": "stream",
     "text": [
      "Sending email to Paula Nuño:  79%|█████████████████████████████████████████████████▏            | 227/286 [08:36<01:54,  1.93s/it]"
     ]
    },
    {
     "name": "stdout",
     "output_type": "stream",
     "text": [
      " [✓] Email delivered!\n",
      " [✓] Succesful connection to server.\n"
     ]
    },
    {
     "name": "stderr",
     "output_type": "stream",
     "text": [
      "Sending email to Paula Sánchez:  80%|███████████████████████████████████████████████            | 228/286 [08:38<01:50,  1.91s/it]"
     ]
    },
    {
     "name": "stdout",
     "output_type": "stream",
     "text": [
      " [✓] Email delivered!\n",
      " [✓] Succesful connection to server.\n"
     ]
    },
    {
     "name": "stderr",
     "output_type": "stream",
     "text": [
      "Sending email to Paula Urrutia:  80%|███████████████████████████████████████████████▏           | 229/286 [08:40<01:47,  1.88s/it]"
     ]
    },
    {
     "name": "stdout",
     "output_type": "stream",
     "text": [
      " [✓] Email delivered!\n",
      " [✓] Succesful connection to server.\n"
     ]
    },
    {
     "name": "stderr",
     "output_type": "stream",
     "text": [
      "Sending email to Paula Vallejos:  80%|██████████████████████████████████████████████▋           | 230/286 [08:42<01:46,  1.91s/it]"
     ]
    },
    {
     "name": "stdout",
     "output_type": "stream",
     "text": [
      " [✓] Email delivered!\n",
      " [✓] Succesful connection to server.\n"
     ]
    },
    {
     "name": "stderr",
     "output_type": "stream",
     "text": [
      "Sending email to Paulina Cortés Ugalde:  81%|█████████████████████████████████████████▏         | 231/286 [08:44<01:42,  1.86s/it]"
     ]
    },
    {
     "name": "stdout",
     "output_type": "stream",
     "text": [
      " [✓] Email delivered!\n",
      " [✓] Succesful connection to server.\n"
     ]
    },
    {
     "name": "stderr",
     "output_type": "stream",
     "text": [
      "Sending email to Paulina Escobar:  81%|██████████████████████████████████████████████▏          | 232/286 [08:46<01:40,  1.86s/it]"
     ]
    },
    {
     "name": "stdout",
     "output_type": "stream",
     "text": [
      " [✓] Email delivered!\n",
      " [✓] Succesful connection to server.\n"
     ]
    },
    {
     "name": "stderr",
     "output_type": "stream",
     "text": [
      "Sending email to Paulina Rivera:  81%|███████████████████████████████████████████████▎          | 233/286 [08:47<01:38,  1.86s/it]"
     ]
    },
    {
     "name": "stdout",
     "output_type": "stream",
     "text": [
      " [✓] Email delivered!\n",
      " [✓] Succesful connection to server.\n"
     ]
    },
    {
     "name": "stderr",
     "output_type": "stream",
     "text": [
      "Sending email to Paz Ayala:  82%|███████████████████████████████████████████████████▌           | 234/286 [08:50<01:41,  1.96s/it]"
     ]
    },
    {
     "name": "stdout",
     "output_type": "stream",
     "text": [
      " [✓] Email delivered!\n",
      " [✓] Succesful connection to server.\n"
     ]
    },
    {
     "name": "stderr",
     "output_type": "stream",
     "text": [
      "Sending email to Paz Tabilo:  82%|██████████████████████████████████████████████████▉           | 235/286 [08:51<01:37,  1.91s/it]"
     ]
    },
    {
     "name": "stdout",
     "output_type": "stream",
     "text": [
      " [✓] Email delivered!\n",
      " [✓] Succesful connection to server.\n"
     ]
    },
    {
     "name": "stderr",
     "output_type": "stream",
     "text": [
      "Sending email to Pia Servela:  83%|██████████████████████████████████████████████████▎          | 236/286 [08:54<01:42,  2.05s/it]"
     ]
    },
    {
     "name": "stdout",
     "output_type": "stream",
     "text": [
      " [✓] Email delivered!\n",
      " [✓] Succesful connection to server.\n"
     ]
    },
    {
     "name": "stderr",
     "output_type": "stream",
     "text": [
      "Sending email to Pilar M. Fernández-Komlos:  83%|██████████████████████████████████████▉        | 237/286 [08:56<01:39,  2.02s/it]"
     ]
    },
    {
     "name": "stdout",
     "output_type": "stream",
     "text": [
      " [✓] Email delivered!\n",
      " [✓] Succesful connection to server.\n"
     ]
    },
    {
     "name": "stderr",
     "output_type": "stream",
     "text": [
      "Sending email to Pilar Troncoso:  83%|████████████████████████████████████████████████▎         | 238/286 [08:58<01:41,  2.11s/it]"
     ]
    },
    {
     "name": "stdout",
     "output_type": "stream",
     "text": [
      " [✓] Email delivered!\n",
      " [✓] Succesful connection to server.\n"
     ]
    },
    {
     "name": "stderr",
     "output_type": "stream",
     "text": [
      "Sending email to Pilar Zuñiga:  84%|██████████████████████████████████████████████████▏         | 239/286 [09:00<01:42,  2.18s/it]"
     ]
    },
    {
     "name": "stdout",
     "output_type": "stream",
     "text": [
      " [✓] Email delivered!\n",
      " [✓] Succesful connection to server.\n"
     ]
    },
    {
     "name": "stderr",
     "output_type": "stream",
     "text": [
      "Sending email to Priscilla Flores Reyes:  84%|█████████████████████████████████████████▉        | 240/286 [09:02<01:36,  2.09s/it]"
     ]
    },
    {
     "name": "stdout",
     "output_type": "stream",
     "text": [
      " [✓] Email delivered!\n",
      " [✓] Succesful connection to server.\n"
     ]
    },
    {
     "name": "stderr",
     "output_type": "stream",
     "text": [
      "Sending email to Pía Romero:  84%|████████████████████████████████████████████████████▏         | 241/286 [09:05<01:36,  2.14s/it]"
     ]
    },
    {
     "name": "stdout",
     "output_type": "stream",
     "text": [
      " [✓] Email delivered!\n",
      " [✓] Succesful connection to server.\n"
     ]
    },
    {
     "name": "stderr",
     "output_type": "stream",
     "text": [
      "Sending email to Roció Rodríguez Sanoja:  85%|██████████████████████████████████████████▎       | 242/286 [09:06<01:28,  2.02s/it]"
     ]
    },
    {
     "name": "stdout",
     "output_type": "stream",
     "text": [
      " [✓] Email delivered!\n",
      " [✓] Succesful connection to server.\n"
     ]
    },
    {
     "name": "stderr",
     "output_type": "stream",
     "text": [
      "Sending email to Rocío Merino:  85%|██████████████████████████████████████████████████▉         | 243/286 [09:08<01:25,  1.98s/it]"
     ]
    },
    {
     "name": "stdout",
     "output_type": "stream",
     "text": [
      " [✓] Email delivered!\n",
      " [✓] Succesful connection to server.\n"
     ]
    },
    {
     "name": "stderr",
     "output_type": "stream",
     "text": [
      "Sending email to Romina Fernández:  85%|███████████████████████████████████████████████▊        | 244/286 [09:10<01:21,  1.94s/it]"
     ]
    },
    {
     "name": "stdout",
     "output_type": "stream",
     "text": [
      " [✓] Email delivered!\n",
      " [✓] Succesful connection to server.\n"
     ]
    },
    {
     "name": "stderr",
     "output_type": "stream",
     "text": [
      "Sending email to Romina Gallardo:  86%|████████████████████████████████████████████████▊        | 245/286 [09:12<01:18,  1.91s/it]"
     ]
    },
    {
     "name": "stdout",
     "output_type": "stream",
     "text": [
      " [✓] Email delivered!\n",
      " [✓] Succesful connection to server.\n"
     ]
    },
    {
     "name": "stderr",
     "output_type": "stream",
     "text": [
      "Sending email to Romina Marttell:  86%|█████████████████████████████████████████████████        | 246/286 [09:14<01:17,  1.93s/it]"
     ]
    },
    {
     "name": "stdout",
     "output_type": "stream",
     "text": [
      " [✓] Email delivered!\n",
      " [✓] Succesful connection to server.\n"
     ]
    },
    {
     "name": "stderr",
     "output_type": "stream",
     "text": [
      "Sending email to Romina Martínez:  86%|█████████████████████████████████████████████████▏       | 247/286 [09:16<01:13,  1.89s/it]"
     ]
    },
    {
     "name": "stdout",
     "output_type": "stream",
     "text": [
      " [✓] Email delivered!\n",
      " [✓] Succesful connection to server.\n"
     ]
    },
    {
     "name": "stderr",
     "output_type": "stream",
     "text": [
      "Sending email to Rosa Caco:  87%|██████████████████████████████████████████████████████▋        | 248/286 [09:18<01:12,  1.91s/it]"
     ]
    },
    {
     "name": "stdout",
     "output_type": "stream",
     "text": [
      " [✓] Email delivered!\n",
      " [✓] Succesful connection to server.\n"
     ]
    },
    {
     "name": "stderr",
     "output_type": "stream",
     "text": [
      "Sending email to Rosa Espinoza:  87%|███████████████████████████████████████████████████▎       | 249/286 [09:20<01:16,  2.07s/it]"
     ]
    },
    {
     "name": "stdout",
     "output_type": "stream",
     "text": [
      " [✓] Email delivered!\n",
      " [✓] Succesful connection to server.\n"
     ]
    },
    {
     "name": "stderr",
     "output_type": "stream",
     "text": [
      "Sending email to Roxana Arauco R:  87%|█████████████████████████████████████████████████▊       | 250/286 [09:22<01:12,  2.02s/it]"
     ]
    },
    {
     "name": "stdout",
     "output_type": "stream",
     "text": [
      " [✓] Email delivered!\n",
      " [✓] Succesful connection to server.\n"
     ]
    },
    {
     "name": "stderr",
     "output_type": "stream",
     "text": [
      "Sending email to Roxana Núñez:  88%|████████████████████████████████████████████████████▋       | 251/286 [09:24<01:15,  2.16s/it]"
     ]
    },
    {
     "name": "stdout",
     "output_type": "stream",
     "text": [
      " [✓] Email delivered!\n",
      " [✓] Succesful connection to server.\n"
     ]
    },
    {
     "name": "stderr",
     "output_type": "stream",
     "text": [
      "Sending email to Ruth Guzman Leiva:  88%|████████████████████████████████████████████████▍      | 252/286 [09:26<01:10,  2.07s/it]"
     ]
    },
    {
     "name": "stdout",
     "output_type": "stream",
     "text": [
      " [✓] Email delivered!\n",
      " [✓] Succesful connection to server.\n"
     ]
    },
    {
     "name": "stderr",
     "output_type": "stream",
     "text": [
      "Sending email to Sandra Irarrazabal:  88%|███████████████████████████████████████████████▊      | 253/286 [09:28<01:06,  2.01s/it]"
     ]
    },
    {
     "name": "stdout",
     "output_type": "stream",
     "text": [
      " [✓] Email delivered!\n",
      " [✓] Succesful connection to server.\n"
     ]
    },
    {
     "name": "stderr",
     "output_type": "stream",
     "text": [
      "Sending email to Sandra Sepulveda:  89%|█████████████████████████████████████████████████▋      | 254/286 [09:30<01:02,  1.96s/it]"
     ]
    },
    {
     "name": "stdout",
     "output_type": "stream",
     "text": [
      " [✓] Email delivered!\n",
      " [✓] Succesful connection to server.\n"
     ]
    },
    {
     "name": "stderr",
     "output_type": "stream",
     "text": [
      "Sending email to Sara Sánchez:  89%|█████████████████████████████████████████████████████▍      | 255/286 [09:32<01:00,  1.97s/it]"
     ]
    },
    {
     "name": "stdout",
     "output_type": "stream",
     "text": [
      " [✓] Email delivered!\n",
      " [✓] Succesful connection to server.\n"
     ]
    },
    {
     "name": "stderr",
     "output_type": "stream",
     "text": [
      "Sending email to Sarame Sepúlveda Martinez:  90%|██████████████████████████████████████████     | 256/286 [09:34<00:57,  1.92s/it]"
     ]
    },
    {
     "name": "stdout",
     "output_type": "stream",
     "text": [
      " [✓] Email delivered!\n",
      " [✓] Succesful connection to server.\n"
     ]
    },
    {
     "name": "stderr",
     "output_type": "stream",
     "text": [
      "Sending email to Silvana Orrego:  90%|████████████████████████████████████████████████████      | 257/286 [09:36<00:59,  2.04s/it]"
     ]
    },
    {
     "name": "stdout",
     "output_type": "stream",
     "text": [
      " [✓] Email delivered!\n",
      " [✓] Succesful connection to server.\n"
     ]
    },
    {
     "name": "stderr",
     "output_type": "stream",
     "text": [
      "Sending email to Soledad Rivas:  90%|█████████████████████████████████████████████████████▏     | 258/286 [09:38<00:55,  1.97s/it]"
     ]
    },
    {
     "name": "stdout",
     "output_type": "stream",
     "text": [
      " [✓] Email delivered!\n",
      " [✓] Succesful connection to server.\n"
     ]
    },
    {
     "name": "stderr",
     "output_type": "stream",
     "text": [
      "Sending email to Tamara Hidalgo:  91%|████████████████████████████████████████████████████▌     | 259/286 [09:40<00:56,  2.08s/it]"
     ]
    },
    {
     "name": "stdout",
     "output_type": "stream",
     "text": [
      " [✓] Email delivered!\n",
      " [✓] Succesful connection to server.\n"
     ]
    },
    {
     "name": "stderr",
     "output_type": "stream",
     "text": [
      "Sending email to Tamara Nazal:  91%|██████████████████████████████████████████████████████▌     | 260/286 [09:42<00:53,  2.05s/it]"
     ]
    },
    {
     "name": "stdout",
     "output_type": "stream",
     "text": [
      " [✓] Email delivered!\n",
      " [✓] Succesful connection to server.\n"
     ]
    },
    {
     "name": "stderr",
     "output_type": "stream",
     "text": [
      "Sending email to Tamara Venegas:  91%|████████████████████████████████████████████████████▉     | 261/286 [09:44<00:50,  2.00s/it]"
     ]
    },
    {
     "name": "stdout",
     "output_type": "stream",
     "text": [
      " [✓] Email delivered!\n",
      " [✓] Succesful connection to server.\n"
     ]
    },
    {
     "name": "stderr",
     "output_type": "stream",
     "text": [
      "Sending email to Tania Rojas:  92%|███████████████████████████████████████████████████████▉     | 262/286 [09:47<00:51,  2.13s/it]"
     ]
    },
    {
     "name": "stdout",
     "output_type": "stream",
     "text": [
      " [✓] Email delivered!\n",
      " [✓] Succesful connection to server.\n"
     ]
    },
    {
     "name": "stderr",
     "output_type": "stream",
     "text": [
      "Sending email to Trinidad Venegas:  92%|███████████████████████████████████████████████████▍    | 263/286 [09:48<00:46,  2.03s/it]"
     ]
    },
    {
     "name": "stdout",
     "output_type": "stream",
     "text": [
      " [✓] Email delivered!\n",
      " [✓] Succesful connection to server.\n"
     ]
    },
    {
     "name": "stderr",
     "output_type": "stream",
     "text": [
      "Sending email to Valentina Catalán Becerra:  92%|███████████████████████████████████████████▍   | 264/286 [09:50<00:43,  1.99s/it]"
     ]
    },
    {
     "name": "stdout",
     "output_type": "stream",
     "text": [
      " [✓] Email delivered!\n",
      " [✓] Succesful connection to server.\n"
     ]
    },
    {
     "name": "stderr",
     "output_type": "stream",
     "text": [
      "Sending email to Valentina Codocedo:  93%|██████████████████████████████████████████████████    | 265/286 [09:52<00:40,  1.94s/it]"
     ]
    },
    {
     "name": "stdout",
     "output_type": "stream",
     "text": [
      " [✓] Email delivered!\n",
      " [✓] Succesful connection to server.\n"
     ]
    },
    {
     "name": "stderr",
     "output_type": "stream",
     "text": [
      "Sending email to Valentina Díaz:  93%|█████████████████████████████████████████████████████▉    | 266/286 [09:54<00:38,  1.90s/it]"
     ]
    },
    {
     "name": "stdout",
     "output_type": "stream",
     "text": [
      " [✓] Email delivered!\n",
      " [✓] Succesful connection to server.\n"
     ]
    },
    {
     "name": "stderr",
     "output_type": "stream",
     "text": [
      "Sending email to Valentina Godoy:  93%|█████████████████████████████████████████████████████▏   | 267/286 [09:57<00:40,  2.16s/it]"
     ]
    },
    {
     "name": "stdout",
     "output_type": "stream",
     "text": [
      " [✓] Email delivered!\n",
      " [✓] Succesful connection to server.\n"
     ]
    },
    {
     "name": "stderr",
     "output_type": "stream",
     "text": [
      "Sending email to Valentina Paredes Quinteros:  94%|██████████████████████████████████████████▏  | 268/286 [09:59<00:37,  2.10s/it]"
     ]
    },
    {
     "name": "stdout",
     "output_type": "stream",
     "text": [
      " [✓] Email delivered!\n",
      " [✓] Succesful connection to server.\n"
     ]
    },
    {
     "name": "stderr",
     "output_type": "stream",
     "text": [
      "Sending email to Valeria Fernandez Delgado:  94%|████████████████████████████████████████████▏  | 269/286 [10:00<00:34,  2.02s/it]"
     ]
    },
    {
     "name": "stdout",
     "output_type": "stream",
     "text": [
      " [✓] Email delivered!\n",
      " [✓] Succesful connection to server.\n"
     ]
    },
    {
     "name": "stderr",
     "output_type": "stream",
     "text": [
      "Sending email to Valeria Riquelme Estrada:  94%|█████████████████████████████████████████████▎  | 270/286 [10:03<00:32,  2.05s/it]"
     ]
    },
    {
     "name": "stdout",
     "output_type": "stream",
     "text": [
      " [✓] Email delivered!\n",
      " [✓] Succesful connection to server.\n"
     ]
    },
    {
     "name": "stderr",
     "output_type": "stream",
     "text": [
      "Sending email to Valeska Diaz:  95%|████████████████████████████████████████████████████████▊   | 271/286 [10:05<00:32,  2.14s/it]"
     ]
    },
    {
     "name": "stdout",
     "output_type": "stream",
     "text": [
      " [✓] Email delivered!\n",
      " [✓] Succesful connection to server.\n"
     ]
    },
    {
     "name": "stderr",
     "output_type": "stream",
     "text": [
      "Sending email to Vanesa Cartes:  95%|████████████████████████████████████████████████████████   | 272/286 [10:07<00:28,  2.07s/it]"
     ]
    },
    {
     "name": "stdout",
     "output_type": "stream",
     "text": [
      " [✓] Email delivered!\n",
      " [✓] Succesful connection to server.\n"
     ]
    },
    {
     "name": "stderr",
     "output_type": "stream",
     "text": [
      "Sending email to Vanessa Arias:  95%|████████████████████████████████████████████████████████▎  | 273/286 [10:09<00:27,  2.09s/it]"
     ]
    },
    {
     "name": "stdout",
     "output_type": "stream",
     "text": [
      " [✓] Email delivered!\n",
      " [×] Something went wrong...\n",
      " --- Connection unexpectedly closed\n",
      " [×] Failure to deliver email to recipient.\n",
      " --- 'NoneType' object has no attribute 'send_message'\n",
      " --- Trying again in 15 seconds...\n",
      " [×] Something went wrong...\n",
      " --- Connection unexpectedly closed\n",
      " [×] Failure to deliver email to recipient.\n",
      " --- 'NoneType' object has no attribute 'send_message'\n",
      " --- Trying again in 15 seconds...\n",
      " [✓] Succesful connection to server.\n"
     ]
    },
    {
     "name": "stderr",
     "output_type": "stream",
     "text": [
      "Sending email to Verónica Retamal:  96%|█████████████████████████████████████████████████████▋  | 274/286 [10:43<02:18, 11.55s/it]"
     ]
    },
    {
     "name": "stdout",
     "output_type": "stream",
     "text": [
      " [✓] Email delivered!\n",
      " [✓] Succesful connection to server.\n"
     ]
    },
    {
     "name": "stderr",
     "output_type": "stream",
     "text": [
      "Sending email to Victoria Escobar Inostroza:  96%|████████████████████████████████████████████▏ | 275/286 [10:45<01:35,  8.68s/it]"
     ]
    },
    {
     "name": "stdout",
     "output_type": "stream",
     "text": [
      " [✓] Email delivered!\n",
      " [✓] Succesful connection to server.\n"
     ]
    },
    {
     "name": "stderr",
     "output_type": "stream",
     "text": [
      "Sending email to Victoria Silva:  97%|███████████████████████████████████████████████████████▉  | 276/286 [10:46<01:06,  6.66s/it]"
     ]
    },
    {
     "name": "stdout",
     "output_type": "stream",
     "text": [
      " [✓] Email delivered!\n",
      " [✓] Succesful connection to server.\n"
     ]
    },
    {
     "name": "stderr",
     "output_type": "stream",
     "text": [
      "Sending email to Viviana Araya:  97%|█████████████████████████████████████████████████████████▏ | 277/286 [10:48<00:47,  5.23s/it]"
     ]
    },
    {
     "name": "stdout",
     "output_type": "stream",
     "text": [
      " [✓] Email delivered!\n",
      " [✓] Succesful connection to server.\n"
     ]
    },
    {
     "name": "stderr",
     "output_type": "stream",
     "text": [
      "Sending email to Vntg:  97%|██████████████████████████████████████████████████████████████████  | 278/286 [10:51<00:34,  4.35s/it]"
     ]
    },
    {
     "name": "stdout",
     "output_type": "stream",
     "text": [
      " [✓] Email delivered!\n",
      " [✓] Succesful connection to server.\n"
     ]
    },
    {
     "name": "stderr",
     "output_type": "stream",
     "text": [
      "Sending email to Ximena Venegas Barrientos:  98%|█████████████████████████████████████████████▊ | 279/286 [10:53<00:25,  3.64s/it]"
     ]
    },
    {
     "name": "stdout",
     "output_type": "stream",
     "text": [
      " [✓] Email delivered!\n",
      " [✓] Succesful connection to server.\n"
     ]
    },
    {
     "name": "stderr",
     "output_type": "stream",
     "text": [
      "Sending email to Xtombolini:  98%|████████████████████████████████████████████████████████████▋ | 280/286 [10:55<00:19,  3.26s/it]"
     ]
    },
    {
     "name": "stdout",
     "output_type": "stream",
     "text": [
      " [✓] Email delivered!\n",
      " [✓] Succesful connection to server.\n"
     ]
    },
    {
     "name": "stderr",
     "output_type": "stream",
     "text": [
      "Sending email to Yazmin Díaz Román:  98%|██████████████████████████████████████████████████████ | 281/286 [10:57<00:14,  2.99s/it]"
     ]
    },
    {
     "name": "stdout",
     "output_type": "stream",
     "text": [
      " [✓] Email delivered!\n",
      " [✓] Succesful connection to server.\n"
     ]
    },
    {
     "name": "stderr",
     "output_type": "stream",
     "text": [
      "Sending email to Yesenia Castillo Pincheira:  99%|█████████████████████████████████████████████▎| 282/286 [10:59<00:10,  2.66s/it]"
     ]
    },
    {
     "name": "stdout",
     "output_type": "stream",
     "text": [
      " [✓] Email delivered!\n",
      " [✓] Succesful connection to server.\n"
     ]
    },
    {
     "name": "stderr",
     "output_type": "stream",
     "text": [
      "Sending email to Yessenia Tapia:  99%|█████████████████████████████████████████████████████████▍| 283/286 [11:01<00:07,  2.41s/it]"
     ]
    },
    {
     "name": "stdout",
     "output_type": "stream",
     "text": [
      " [✓] Email delivered!\n",
      " [✓] Succesful connection to server.\n"
     ]
    },
    {
     "name": "stderr",
     "output_type": "stream",
     "text": [
      "Sending email to Yina Zúñiga:  99%|████████████████████████████████████████████████████████████▌| 284/286 [11:04<00:04,  2.41s/it]"
     ]
    },
    {
     "name": "stdout",
     "output_type": "stream",
     "text": [
      " [✓] Email delivered!\n",
      " [✓] Succesful connection to server.\n"
     ]
    },
    {
     "name": "stderr",
     "output_type": "stream",
     "text": [
      "Sending email to AMIGAS-VNTG: 100%|████████████████████████████████████████████████████████████▊| 285/286 [11:05<00:02,  2.23s/it]"
     ]
    },
    {
     "name": "stdout",
     "output_type": "stream",
     "text": [
      " [✓] Email delivered!\n",
      " [✓] Succesful connection to server.\n"
     ]
    },
    {
     "name": "stderr",
     "output_type": "stream",
     "text": [
      "Sending email to AMIGAS-VNTG: 100%|█████████████████████████████████████████████████████████████| 286/286 [11:07<00:00,  2.33s/it]"
     ]
    },
    {
     "name": "stdout",
     "output_type": "stream",
     "text": [
      " [✓] Email delivered!\n"
     ]
    },
    {
     "name": "stderr",
     "output_type": "stream",
     "text": [
      "\n"
     ]
    }
   ],
   "source": [
    "# Bulk processing of campaign emails.\n",
    "send_bulk_emails(auth, clients, base_html, subject)"
   ]
  },
  {
   "cell_type": "code",
   "execution_count": null,
   "id": "e64ea0c9-3048-4890-8d43-842c9e81fb93",
   "metadata": {},
   "outputs": [],
   "source": []
  }
 ],
 "metadata": {
  "kernelspec": {
   "display_name": "Python 3 (ipykernel)",
   "language": "python",
   "name": "python3"
  },
  "language_info": {
   "codemirror_mode": {
    "name": "ipython",
    "version": 3
   },
   "file_extension": ".py",
   "mimetype": "text/x-python",
   "name": "python",
   "nbconvert_exporter": "python",
   "pygments_lexer": "ipython3",
   "version": "3.9.7"
  }
 },
 "nbformat": 4,
 "nbformat_minor": 5
}
