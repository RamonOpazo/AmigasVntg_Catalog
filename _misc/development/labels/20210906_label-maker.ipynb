{
 "cells": [
  {
   "cell_type": "code",
   "execution_count": 1,
   "id": "8f19e168-8f45-4e1c-be03-71cb2d4f361d",
   "metadata": {},
   "outputs": [],
   "source": [
    "import numpy as np\n",
    "import pandas as pd"
   ]
  },
  {
   "cell_type": "code",
   "execution_count": 22,
   "id": "df04a920-b5da-4dcc-8946-20d20dddd21d",
   "metadata": {},
   "outputs": [],
   "source": [
    "df = pd.read_csv('./CAT-WEB - AVC-2021-004.csv', keep_default_na=False)"
   ]
  },
  {
   "cell_type": "code",
   "execution_count": 24,
   "id": "a25d3799-4619-4a6b-b04c-ab0ce9d25ab0",
   "metadata": {},
   "outputs": [],
   "source": [
    "d = df.to_dict(orient=\"records\")"
   ]
  },
  {
   "cell_type": "code",
   "execution_count": 27,
   "id": "75e65608-4c63-4f49-849c-b03739ca3ad6",
   "metadata": {},
   "outputs": [
    {
     "name": "stdout",
     "output_type": "stream",
     "text": [
      "<div class='label'><img src='./AmigasVntg_800px.png'><p class='name'>Blusa puntitos multicolor</p><p>BLU-MLT-2021004-002</p><p>$8.000</p></div>\n",
      "<div class='label'><img src='./AmigasVntg_800px.png'><p class='name'>Blusa flores pastel</p><p>BLU-AZL-2021004-004</p><p>$12.000</p></div>\n",
      "<div class='label'><img src='./AmigasVntg_800px.png'><p class='name'>Blusa verde romántica</p><p>BLU-BLN-2021004-005</p><p>$12.000</p></div>\n",
      "<div class='label'><img src='./AmigasVntg_800px.png'><p class='name'>Blusa bicolor</p><p>BLU-AZL-2021004-006</p><p>$14.000</p></div>\n",
      "<div class='label'><img src='./AmigasVntg_800px.png'><p class='name'>Tapado van Gogh</p><p>BLU-NGR-2021004-007</p><p>$12.000</p></div>\n",
      "<div class='label'><img src='./AmigasVntg_800px.png'><p class='name'>Blazer terracota</p><p>BLZ-RJO-2021004-008</p><p>$16.000</p></div>\n",
      "<div class='label'><img src='./AmigasVntg_800px.png'><p class='name'>Tapado Flora</p><p>BLZ-MLT-2021004-009</p><p>$16.000</p></div>\n",
      "<div class='label'><img src='./AmigasVntg_800px.png'><p class='name'>Blazer indian chic</p><p>BLZ-AZL-2021004-010</p><p>$28.000</p></div>\n",
      "<div class='label'><img src='./AmigasVntg_800px.png'><p class='name'>Chaleco Peonia</p><p>CHL-NGR-2021004-011</p><p>$24.000</p></div>\n",
      "<div class='label'><img src='./AmigasVntg_800px.png'><p class='name'>Chaleco Ranco</p><p>CHL-MLT-2021004-012</p><p>$22.000</p></div>\n",
      "<div class='label'><img src='./AmigasVntg_800px.png'><p class='name'>Chaleco Navigare</p><p>CHL-BLN-2021004-013</p><p>$22.000</p></div>\n",
      "<div class='label'><img src='./AmigasVntg_800px.png'><p class='name'>Vestido Ágata</p><p>VST-BYN-2021004-015</p><p>$18.000</p></div>\n",
      "<div class='label'><img src='./AmigasVntg_800px.png'><p class='name'>Vestido tulipán</p><p>VST-NGR-2021004-016</p><p>$16.000</p></div>\n",
      "<div class='label'><img src='./AmigasVntg_800px.png'><p class='name'>Vestido sandía</p><p>VST-RSD-2021004-017</p><p>$24.000</p></div>\n",
      "<div class='label'><img src='./AmigasVntg_800px.png'><p class='name'>Vestido Gilda</p><p>VST-BYN-2021004-018</p><p>$26.000</p></div>\n",
      "<div class='label'><img src='./AmigasVntg_800px.png'><p class='name'>Vestido Laura</p><p>VST-MLT-2021004-019</p><p>$24.000</p></div>\n",
      "<div class='label'><img src='./AmigasVntg_800px.png'><p class='name'>Vestido Eloísa</p><p>VST-MLT-2021004-020</p><p>$24.000</p></div>\n",
      "<div class='label'><img src='./AmigasVntg_800px.png'><p class='name'>Vestido Marina</p><p>VST-AZL-2021004-021</p><p>$22.000</p></div>\n",
      "<div class='label'><img src='./AmigasVntg_800px.png'><p class='name'>Vestido Suni</p><p>VST-MLT-2021004-022</p><p>$32.000</p></div>\n",
      "<div class='label'><img src='./AmigasVntg_800px.png'><p class='name'>Vestido Roberta</p><p>VST-MLT-2021004-023</p><p>$16.000</p></div>\n",
      "<div class='label'><img src='./AmigasVntg_800px.png'><p class='name'>Pantalón Lorenza</p><p>PNT-CFE-2021004-024</p><p>$28.000</p></div>\n",
      "<div class='label'><img src='./AmigasVntg_800px.png'><p class='name'>Mom jeans Mónica</p><p>PNT-AZL-2021004-026</p><p>$28.000</p></div>\n",
      "<div class='label'><img src='./AmigasVntg_800px.png'><p class='name'>Falda dark velvet</p><p>FLD-NGR-2021004-027</p><p>$16.000</p></div>\n",
      "<div class='label'><img src='./AmigasVntg_800px.png'><p class='name'>Falda conchitas de mar</p><p>FLD-MLT-2021004-028</p><p>$12.000</p></div>\n",
      "<div class='label'><img src='./AmigasVntg_800px.png'><p class='name'>Falda-pantalón Mariana</p><p>FLD-MLT-2021004-030</p><p>$18.000</p></div>\n"
     ]
    }
   ],
   "source": [
    "for i in d:\n",
    "    if i[\"nombre\"]:\n",
    "        print(f\"<div class='label'><img src='./AmigasVntg_800px.png'><p class='name'>{i['nombre']}</p><p>{i['SKU']}</p><p>{i['precio']}</p></div>\")"
   ]
  },
  {
   "cell_type": "code",
   "execution_count": null,
   "id": "1fdf3463-d1c4-40e9-bc60-df3b2ce1dbf8",
   "metadata": {},
   "outputs": [],
   "source": []
  }
 ],
 "metadata": {
  "kernelspec": {
   "display_name": "Python 3.9.1 64-bit ('base': conda)",
   "language": "python",
   "name": "python391jvsc74a57bd0569d6b7e9215e11aba41c6454007e5c1b78bad7df09dab765d8cf00362c40f03"
  },
  "language_info": {
   "codemirror_mode": {
    "name": "ipython",
    "version": 3
   },
   "file_extension": ".py",
   "mimetype": "text/x-python",
   "name": "python",
   "nbconvert_exporter": "python",
   "pygments_lexer": "ipython3",
   "version": "3.9.1"
  }
 },
 "nbformat": 4,
 "nbformat_minor": 5
}
